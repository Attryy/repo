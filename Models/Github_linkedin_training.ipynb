{
 "cells": [
  {
   "cell_type": "code",
   "execution_count": 187,
   "metadata": {},
   "outputs": [
    {
     "name": "stdout",
     "output_type": "stream",
     "text": [
      "Collecting nltk\n",
      "  Downloading https://files.pythonhosted.org/packages/50/09/3b1755d528ad9156ee7243d52aa5cd2b809ef053a0f31b53d92853dd653a/nltk-3.3.0.zip (1.4MB)\n",
      "\u001b[K    100% |████████████████████████████████| 1.4MB 1.2MB/s eta 0:00:01\n",
      "\u001b[?25hRequirement already satisfied: six in /usr/local/lib/python3.5/dist-packages (from nltk)\n",
      "Building wheels for collected packages: nltk\n",
      "  Running setup.py bdist_wheel for nltk ... \u001b[?25ldone\n",
      "\u001b[?25h  Stored in directory: /home/jia/.cache/pip/wheels/d1/ab/40/3bceea46922767e42986aef7606a600538ca80de6062dc266c\n",
      "Successfully built nltk\n",
      "Installing collected packages: nltk\n",
      "Successfully installed nltk-3.3\n",
      "\u001b[33mYou are using pip version 9.0.3, however version 18.0 is available.\n",
      "You should consider upgrading via the 'pip install --upgrade pip' command.\u001b[0m\n"
     ]
    }
   ],
   "source": [
    "import sys\n",
    "!{sys.executable} -m pip install nltk --user"
   ]
  },
  {
   "cell_type": "markdown",
   "metadata": {},
   "source": [
    "## Case1: using features from Spark (TF-IDF-Cosine similarity)"
   ]
  },
  {
   "cell_type": "code",
   "execution_count": 1,
   "metadata": {},
   "outputs": [],
   "source": [
    "import pandas as pd"
   ]
  },
  {
   "cell_type": "code",
   "execution_count": 2,
   "metadata": {},
   "outputs": [],
   "source": [
    "test = pd.read_csv(\"/home/yiwei/yiwei_data/test_filled_simi0919.csv\", index_col=0)"
   ]
  },
  {
   "cell_type": "code",
   "execution_count": 3,
   "metadata": {},
   "outputs": [],
   "source": [
    "# reverse the column names between 'idGit' and 'idLink' \n",
    "test.columns.values[1] = 'temp'\n",
    "\n",
    "test.columns.values[0]= 'idLink'\n",
    "\n",
    "test.columns.values[1] = 'idGit'"
   ]
  },
  {
   "cell_type": "code",
   "execution_count": 4,
   "metadata": {
    "scrolled": true
   },
   "outputs": [
    {
     "data": {
      "text/html": [
       "<div>\n",
       "<style scoped>\n",
       "    .dataframe tbody tr th:only-of-type {\n",
       "        vertical-align: middle;\n",
       "    }\n",
       "\n",
       "    .dataframe tbody tr th {\n",
       "        vertical-align: top;\n",
       "    }\n",
       "\n",
       "    .dataframe thead th {\n",
       "        text-align: right;\n",
       "    }\n",
       "</style>\n",
       "<table border=\"1\" class=\"dataframe\">\n",
       "  <thead>\n",
       "    <tr style=\"text-align: right;\">\n",
       "      <th></th>\n",
       "      <th>idLink</th>\n",
       "      <th>idGit</th>\n",
       "      <th>label</th>\n",
       "      <th>bio_simi</th>\n",
       "      <th>edu_exp_simi</th>\n",
       "      <th>gitlang_simi</th>\n",
       "      <th>pro_pub_title_simi</th>\n",
       "      <th>pro_pub_desc_simi</th>\n",
       "      <th>skill_simi</th>\n",
       "      <th>summary_simi</th>\n",
       "      <th>...</th>\n",
       "      <th>login_fuzz</th>\n",
       "      <th>login_jw</th>\n",
       "      <th>location_fuzz_sort</th>\n",
       "      <th>school_company</th>\n",
       "      <th>company_company</th>\n",
       "      <th>linkedin_gitblog</th>\n",
       "      <th>linkedin_gitweb</th>\n",
       "      <th>linkweb_gitblog</th>\n",
       "      <th>linkweb_gitweb</th>\n",
       "      <th>linkweb_github</th>\n",
       "    </tr>\n",
       "  </thead>\n",
       "  <tbody>\n",
       "    <tr>\n",
       "      <th>0</th>\n",
       "      <td>100012</td>\n",
       "      <td>g2899552</td>\n",
       "      <td>0.0</td>\n",
       "      <td>-1.0</td>\n",
       "      <td>-1.0</td>\n",
       "      <td>-1.000000</td>\n",
       "      <td>-1.0</td>\n",
       "      <td>-1.0</td>\n",
       "      <td>-1.000000</td>\n",
       "      <td>-1.0</td>\n",
       "      <td>...</td>\n",
       "      <td>78.0</td>\n",
       "      <td>0.73623</td>\n",
       "      <td>34.0</td>\n",
       "      <td>0.0</td>\n",
       "      <td>0.0</td>\n",
       "      <td>0.670411</td>\n",
       "      <td>0.670411</td>\n",
       "      <td>0.506531</td>\n",
       "      <td>0.506531</td>\n",
       "      <td>0.584223</td>\n",
       "    </tr>\n",
       "    <tr>\n",
       "      <th>1</th>\n",
       "      <td>100061</td>\n",
       "      <td>g4882851</td>\n",
       "      <td>0.0</td>\n",
       "      <td>-1.0</td>\n",
       "      <td>-1.0</td>\n",
       "      <td>0.000000</td>\n",
       "      <td>-1.0</td>\n",
       "      <td>0.0</td>\n",
       "      <td>0.000000</td>\n",
       "      <td>-1.0</td>\n",
       "      <td>...</td>\n",
       "      <td>63.0</td>\n",
       "      <td>0.78846</td>\n",
       "      <td>34.0</td>\n",
       "      <td>28.0</td>\n",
       "      <td>38.0</td>\n",
       "      <td>0.717949</td>\n",
       "      <td>0.717949</td>\n",
       "      <td>0.666667</td>\n",
       "      <td>0.666667</td>\n",
       "      <td>0.594595</td>\n",
       "    </tr>\n",
       "    <tr>\n",
       "      <th>2</th>\n",
       "      <td>10007</td>\n",
       "      <td>g571263</td>\n",
       "      <td>0.0</td>\n",
       "      <td>-1.0</td>\n",
       "      <td>-1.0</td>\n",
       "      <td>-1.000000</td>\n",
       "      <td>-1.0</td>\n",
       "      <td>-1.0</td>\n",
       "      <td>0.000000</td>\n",
       "      <td>-1.0</td>\n",
       "      <td>...</td>\n",
       "      <td>67.0</td>\n",
       "      <td>0.71520</td>\n",
       "      <td>33.0</td>\n",
       "      <td>0.0</td>\n",
       "      <td>0.0</td>\n",
       "      <td>0.670411</td>\n",
       "      <td>0.670411</td>\n",
       "      <td>0.506531</td>\n",
       "      <td>0.506531</td>\n",
       "      <td>0.584223</td>\n",
       "    </tr>\n",
       "    <tr>\n",
       "      <th>3</th>\n",
       "      <td>100138</td>\n",
       "      <td>g182785</td>\n",
       "      <td>0.0</td>\n",
       "      <td>0.0</td>\n",
       "      <td>0.0</td>\n",
       "      <td>0.085641</td>\n",
       "      <td>-1.0</td>\n",
       "      <td>-1.0</td>\n",
       "      <td>0.035948</td>\n",
       "      <td>-1.0</td>\n",
       "      <td>...</td>\n",
       "      <td>57.0</td>\n",
       "      <td>0.80000</td>\n",
       "      <td>23.0</td>\n",
       "      <td>0.0</td>\n",
       "      <td>0.0</td>\n",
       "      <td>0.670411</td>\n",
       "      <td>0.670411</td>\n",
       "      <td>0.506531</td>\n",
       "      <td>0.506531</td>\n",
       "      <td>0.608696</td>\n",
       "    </tr>\n",
       "    <tr>\n",
       "      <th>4</th>\n",
       "      <td>100138</td>\n",
       "      <td>g3326748</td>\n",
       "      <td>0.0</td>\n",
       "      <td>-1.0</td>\n",
       "      <td>-1.0</td>\n",
       "      <td>-1.000000</td>\n",
       "      <td>-1.0</td>\n",
       "      <td>-1.0</td>\n",
       "      <td>-1.000000</td>\n",
       "      <td>-1.0</td>\n",
       "      <td>...</td>\n",
       "      <td>47.0</td>\n",
       "      <td>0.57619</td>\n",
       "      <td>39.0</td>\n",
       "      <td>0.0</td>\n",
       "      <td>0.0</td>\n",
       "      <td>0.670411</td>\n",
       "      <td>0.670411</td>\n",
       "      <td>0.506531</td>\n",
       "      <td>0.506531</td>\n",
       "      <td>0.576923</td>\n",
       "    </tr>\n",
       "  </tbody>\n",
       "</table>\n",
       "<p>5 rows × 26 columns</p>\n",
       "</div>"
      ],
      "text/plain": [
       "   idLink     idGit  label  bio_simi  edu_exp_simi  gitlang_simi  \\\n",
       "0  100012  g2899552    0.0      -1.0          -1.0     -1.000000   \n",
       "1  100061  g4882851    0.0      -1.0          -1.0      0.000000   \n",
       "2   10007   g571263    0.0      -1.0          -1.0     -1.000000   \n",
       "3  100138   g182785    0.0       0.0           0.0      0.085641   \n",
       "4  100138  g3326748    0.0      -1.0          -1.0     -1.000000   \n",
       "\n",
       "   pro_pub_title_simi  pro_pub_desc_simi  skill_simi  summary_simi  \\\n",
       "0                -1.0               -1.0   -1.000000          -1.0   \n",
       "1                -1.0                0.0    0.000000          -1.0   \n",
       "2                -1.0               -1.0    0.000000          -1.0   \n",
       "3                -1.0               -1.0    0.035948          -1.0   \n",
       "4                -1.0               -1.0   -1.000000          -1.0   \n",
       "\n",
       "        ...        login_fuzz  login_jw  location_fuzz_sort  school_company  \\\n",
       "0       ...              78.0   0.73623                34.0             0.0   \n",
       "1       ...              63.0   0.78846                34.0            28.0   \n",
       "2       ...              67.0   0.71520                33.0             0.0   \n",
       "3       ...              57.0   0.80000                23.0             0.0   \n",
       "4       ...              47.0   0.57619                39.0             0.0   \n",
       "\n",
       "   company_company  linkedin_gitblog  linkedin_gitweb  linkweb_gitblog  \\\n",
       "0              0.0          0.670411         0.670411         0.506531   \n",
       "1             38.0          0.717949         0.717949         0.666667   \n",
       "2              0.0          0.670411         0.670411         0.506531   \n",
       "3              0.0          0.670411         0.670411         0.506531   \n",
       "4              0.0          0.670411         0.670411         0.506531   \n",
       "\n",
       "   linkweb_gitweb  linkweb_github  \n",
       "0        0.506531        0.584223  \n",
       "1        0.666667        0.594595  \n",
       "2        0.506531        0.584223  \n",
       "3        0.506531        0.608696  \n",
       "4        0.506531        0.576923  \n",
       "\n",
       "[5 rows x 26 columns]"
      ]
     },
     "execution_count": 4,
     "metadata": {},
     "output_type": "execute_result"
    }
   ],
   "source": [
    "test.head()"
   ]
  },
  {
   "cell_type": "code",
   "execution_count": 5,
   "metadata": {},
   "outputs": [],
   "source": [
    "train = pd.read_csv(\"/home/yiwei/yiwei_data/train_filled_simi0919.csv\", index_col=0)"
   ]
  },
  {
   "cell_type": "code",
   "execution_count": 6,
   "metadata": {},
   "outputs": [],
   "source": [
    "# reverse the column names between 'idGit' and 'idLink' \n",
    "train.columns.values[1] = 'temp'\n",
    "\n",
    "train.columns.values[0]= 'idLink'\n",
    "\n",
    "train.columns.values[1] = 'idGit'"
   ]
  },
  {
   "cell_type": "code",
   "execution_count": 7,
   "metadata": {},
   "outputs": [
    {
     "data": {
      "text/html": [
       "<div>\n",
       "<style scoped>\n",
       "    .dataframe tbody tr th:only-of-type {\n",
       "        vertical-align: middle;\n",
       "    }\n",
       "\n",
       "    .dataframe tbody tr th {\n",
       "        vertical-align: top;\n",
       "    }\n",
       "\n",
       "    .dataframe thead th {\n",
       "        text-align: right;\n",
       "    }\n",
       "</style>\n",
       "<table border=\"1\" class=\"dataframe\">\n",
       "  <thead>\n",
       "    <tr style=\"text-align: right;\">\n",
       "      <th></th>\n",
       "      <th>idLink</th>\n",
       "      <th>idGit</th>\n",
       "      <th>label</th>\n",
       "      <th>bio_simi</th>\n",
       "      <th>edu_exp_simi</th>\n",
       "      <th>gitlang_simi</th>\n",
       "      <th>pro_pub_title_simi</th>\n",
       "      <th>pro_pub_desc_simi</th>\n",
       "      <th>skill_simi</th>\n",
       "      <th>summary_simi</th>\n",
       "      <th>...</th>\n",
       "      <th>login_fuzz</th>\n",
       "      <th>login_jw</th>\n",
       "      <th>location_fuzz_sort</th>\n",
       "      <th>school_company</th>\n",
       "      <th>company_company</th>\n",
       "      <th>linkedin_gitblog</th>\n",
       "      <th>linkedin_gitweb</th>\n",
       "      <th>linkweb_gitblog</th>\n",
       "      <th>linkweb_gitweb</th>\n",
       "      <th>linkweb_github</th>\n",
       "    </tr>\n",
       "  </thead>\n",
       "  <tbody>\n",
       "    <tr>\n",
       "      <th>0</th>\n",
       "      <td>100138</td>\n",
       "      <td>g100500</td>\n",
       "      <td>0.0</td>\n",
       "      <td>0.024105</td>\n",
       "      <td>0.000000</td>\n",
       "      <td>0.047227</td>\n",
       "      <td>-1.0</td>\n",
       "      <td>-1.0</td>\n",
       "      <td>0.052718</td>\n",
       "      <td>-1.0</td>\n",
       "      <td>...</td>\n",
       "      <td>69.0</td>\n",
       "      <td>0.89250</td>\n",
       "      <td>38.0</td>\n",
       "      <td>0.0</td>\n",
       "      <td>0.0</td>\n",
       "      <td>0.714286</td>\n",
       "      <td>0.714286</td>\n",
       "      <td>0.520000</td>\n",
       "      <td>0.520000</td>\n",
       "      <td>0.685714</td>\n",
       "    </tr>\n",
       "    <tr>\n",
       "      <th>1</th>\n",
       "      <td>100138</td>\n",
       "      <td>g1019498</td>\n",
       "      <td>0.0</td>\n",
       "      <td>-1.000000</td>\n",
       "      <td>-1.000000</td>\n",
       "      <td>0.067849</td>\n",
       "      <td>-1.0</td>\n",
       "      <td>-1.0</td>\n",
       "      <td>0.056572</td>\n",
       "      <td>-1.0</td>\n",
       "      <td>...</td>\n",
       "      <td>33.0</td>\n",
       "      <td>0.55000</td>\n",
       "      <td>36.0</td>\n",
       "      <td>0.0</td>\n",
       "      <td>0.0</td>\n",
       "      <td>0.670411</td>\n",
       "      <td>0.670411</td>\n",
       "      <td>0.506531</td>\n",
       "      <td>0.506531</td>\n",
       "      <td>0.666667</td>\n",
       "    </tr>\n",
       "    <tr>\n",
       "      <th>2</th>\n",
       "      <td>100138</td>\n",
       "      <td>g103700</td>\n",
       "      <td>0.0</td>\n",
       "      <td>-1.000000</td>\n",
       "      <td>-1.000000</td>\n",
       "      <td>0.124147</td>\n",
       "      <td>-1.0</td>\n",
       "      <td>-1.0</td>\n",
       "      <td>0.022928</td>\n",
       "      <td>-1.0</td>\n",
       "      <td>...</td>\n",
       "      <td>78.0</td>\n",
       "      <td>0.85833</td>\n",
       "      <td>38.0</td>\n",
       "      <td>22.0</td>\n",
       "      <td>11.0</td>\n",
       "      <td>0.742857</td>\n",
       "      <td>0.742857</td>\n",
       "      <td>0.473684</td>\n",
       "      <td>0.473684</td>\n",
       "      <td>0.666667</td>\n",
       "    </tr>\n",
       "    <tr>\n",
       "      <th>3</th>\n",
       "      <td>100138</td>\n",
       "      <td>g111705</td>\n",
       "      <td>0.0</td>\n",
       "      <td>0.017670</td>\n",
       "      <td>0.023765</td>\n",
       "      <td>0.037297</td>\n",
       "      <td>-1.0</td>\n",
       "      <td>-1.0</td>\n",
       "      <td>0.028783</td>\n",
       "      <td>-1.0</td>\n",
       "      <td>...</td>\n",
       "      <td>21.0</td>\n",
       "      <td>0.45351</td>\n",
       "      <td>32.0</td>\n",
       "      <td>14.0</td>\n",
       "      <td>18.0</td>\n",
       "      <td>0.685714</td>\n",
       "      <td>0.685714</td>\n",
       "      <td>0.647059</td>\n",
       "      <td>0.647059</td>\n",
       "      <td>0.710526</td>\n",
       "    </tr>\n",
       "    <tr>\n",
       "      <th>4</th>\n",
       "      <td>100138</td>\n",
       "      <td>g1181508</td>\n",
       "      <td>0.0</td>\n",
       "      <td>-1.000000</td>\n",
       "      <td>-1.000000</td>\n",
       "      <td>0.132874</td>\n",
       "      <td>-1.0</td>\n",
       "      <td>-1.0</td>\n",
       "      <td>0.054940</td>\n",
       "      <td>-1.0</td>\n",
       "      <td>...</td>\n",
       "      <td>82.0</td>\n",
       "      <td>0.93000</td>\n",
       "      <td>32.0</td>\n",
       "      <td>27.0</td>\n",
       "      <td>28.0</td>\n",
       "      <td>0.685714</td>\n",
       "      <td>0.685714</td>\n",
       "      <td>0.434783</td>\n",
       "      <td>0.434783</td>\n",
       "      <td>0.645161</td>\n",
       "    </tr>\n",
       "  </tbody>\n",
       "</table>\n",
       "<p>5 rows × 26 columns</p>\n",
       "</div>"
      ],
      "text/plain": [
       "   idLink     idGit  label  bio_simi  edu_exp_simi  gitlang_simi  \\\n",
       "0  100138   g100500    0.0  0.024105      0.000000      0.047227   \n",
       "1  100138  g1019498    0.0 -1.000000     -1.000000      0.067849   \n",
       "2  100138   g103700    0.0 -1.000000     -1.000000      0.124147   \n",
       "3  100138   g111705    0.0  0.017670      0.023765      0.037297   \n",
       "4  100138  g1181508    0.0 -1.000000     -1.000000      0.132874   \n",
       "\n",
       "   pro_pub_title_simi  pro_pub_desc_simi  skill_simi  summary_simi  \\\n",
       "0                -1.0               -1.0    0.052718          -1.0   \n",
       "1                -1.0               -1.0    0.056572          -1.0   \n",
       "2                -1.0               -1.0    0.022928          -1.0   \n",
       "3                -1.0               -1.0    0.028783          -1.0   \n",
       "4                -1.0               -1.0    0.054940          -1.0   \n",
       "\n",
       "        ...        login_fuzz  login_jw  location_fuzz_sort  school_company  \\\n",
       "0       ...              69.0   0.89250                38.0             0.0   \n",
       "1       ...              33.0   0.55000                36.0             0.0   \n",
       "2       ...              78.0   0.85833                38.0            22.0   \n",
       "3       ...              21.0   0.45351                32.0            14.0   \n",
       "4       ...              82.0   0.93000                32.0            27.0   \n",
       "\n",
       "   company_company  linkedin_gitblog  linkedin_gitweb  linkweb_gitblog  \\\n",
       "0              0.0          0.714286         0.714286         0.520000   \n",
       "1              0.0          0.670411         0.670411         0.506531   \n",
       "2             11.0          0.742857         0.742857         0.473684   \n",
       "3             18.0          0.685714         0.685714         0.647059   \n",
       "4             28.0          0.685714         0.685714         0.434783   \n",
       "\n",
       "   linkweb_gitweb  linkweb_github  \n",
       "0        0.520000        0.685714  \n",
       "1        0.506531        0.666667  \n",
       "2        0.473684        0.666667  \n",
       "3        0.647059        0.710526  \n",
       "4        0.434783        0.645161  \n",
       "\n",
       "[5 rows x 26 columns]"
      ]
     },
     "execution_count": 7,
     "metadata": {},
     "output_type": "execute_result"
    }
   ],
   "source": [
    "train.head()"
   ]
  },
  {
   "cell_type": "code",
   "execution_count": 8,
   "metadata": {},
   "outputs": [
    {
     "name": "stdout",
     "output_type": "stream",
     "text": [
      "<class 'pandas.core.frame.DataFrame'>\n",
      "Int64Index: 491790 entries, 0 to 491789\n",
      "Data columns (total 26 columns):\n",
      "idLink                491790 non-null int64\n",
      "idGit                 491790 non-null object\n",
      "label                 491790 non-null float64\n",
      "bio_simi              491790 non-null float64\n",
      "edu_exp_simi          491790 non-null float64\n",
      "gitlang_simi          491790 non-null float64\n",
      "pro_pub_title_simi    491790 non-null float64\n",
      "pro_pub_desc_simi     491790 non-null float64\n",
      "skill_simi            491790 non-null float64\n",
      "summary_simi          491790 non-null float64\n",
      "exp_desc_simi         491790 non-null float64\n",
      "count                 491790 non-null float64\n",
      "name_leven            491790 non-null float64\n",
      "name_dmetaphone       491790 non-null float64\n",
      "name_jw               491790 non-null float64\n",
      "name_fuzz             491790 non-null float64\n",
      "login_fuzz            491790 non-null float64\n",
      "login_jw              491790 non-null float64\n",
      "location_fuzz_sort    491790 non-null float64\n",
      "school_company        491790 non-null float64\n",
      "company_company       491790 non-null float64\n",
      "linkedin_gitblog      491790 non-null float64\n",
      "linkedin_gitweb       491790 non-null float64\n",
      "linkweb_gitblog       491790 non-null float64\n",
      "linkweb_gitweb        491790 non-null float64\n",
      "linkweb_github        491790 non-null float64\n",
      "dtypes: float64(24), int64(1), object(1)\n",
      "memory usage: 101.3+ MB\n"
     ]
    }
   ],
   "source": [
    "train.info()"
   ]
  },
  {
   "cell_type": "code",
   "execution_count": 9,
   "metadata": {},
   "outputs": [
    {
     "name": "stdout",
     "output_type": "stream",
     "text": [
      "<class 'pandas.core.frame.DataFrame'>\n",
      "Int64Index: 210275 entries, 0 to 210274\n",
      "Data columns (total 26 columns):\n",
      "idLink                210275 non-null int64\n",
      "idGit                 210275 non-null object\n",
      "label                 210275 non-null float64\n",
      "bio_simi              210275 non-null float64\n",
      "edu_exp_simi          210275 non-null float64\n",
      "gitlang_simi          210275 non-null float64\n",
      "pro_pub_title_simi    210275 non-null float64\n",
      "pro_pub_desc_simi     210275 non-null float64\n",
      "skill_simi            210275 non-null float64\n",
      "summary_simi          210275 non-null float64\n",
      "exp_desc_simi         210275 non-null float64\n",
      "count                 210275 non-null float64\n",
      "name_leven            210275 non-null float64\n",
      "name_dmetaphone       210275 non-null float64\n",
      "name_jw               210275 non-null float64\n",
      "name_fuzz             210275 non-null float64\n",
      "login_fuzz            210275 non-null float64\n",
      "login_jw              210275 non-null float64\n",
      "location_fuzz_sort    210275 non-null float64\n",
      "school_company        210275 non-null float64\n",
      "company_company       210275 non-null float64\n",
      "linkedin_gitblog      210275 non-null float64\n",
      "linkedin_gitweb       210275 non-null float64\n",
      "linkweb_gitblog       210275 non-null float64\n",
      "linkweb_gitweb        210275 non-null float64\n",
      "linkweb_github        210275 non-null float64\n",
      "dtypes: float64(24), int64(1), object(1)\n",
      "memory usage: 43.3+ MB\n"
     ]
    }
   ],
   "source": [
    "test.info()"
   ]
  },
  {
   "cell_type": "code",
   "execution_count": 10,
   "metadata": {},
   "outputs": [],
   "source": [
    "train.label = train.label.astype('category')"
   ]
  },
  {
   "cell_type": "code",
   "execution_count": 11,
   "metadata": {},
   "outputs": [],
   "source": [
    "test.label = test.label.astype('category')"
   ]
  },
  {
   "cell_type": "code",
   "execution_count": 12,
   "metadata": {},
   "outputs": [],
   "source": [
    "trainingID = train.loc[:,'idLink':'idGit']"
   ]
  },
  {
   "cell_type": "code",
   "execution_count": 13,
   "metadata": {},
   "outputs": [],
   "source": [
    "testID = test.loc[:,'idLink':'idGit']"
   ]
  },
  {
   "cell_type": "code",
   "execution_count": 13,
   "metadata": {},
   "outputs": [
    {
     "data": {
      "text/html": [
       "<div>\n",
       "<style scoped>\n",
       "    .dataframe tbody tr th:only-of-type {\n",
       "        vertical-align: middle;\n",
       "    }\n",
       "\n",
       "    .dataframe tbody tr th {\n",
       "        vertical-align: top;\n",
       "    }\n",
       "\n",
       "    .dataframe thead th {\n",
       "        text-align: right;\n",
       "    }\n",
       "</style>\n",
       "<table border=\"1\" class=\"dataframe\">\n",
       "  <thead>\n",
       "    <tr style=\"text-align: right;\">\n",
       "      <th></th>\n",
       "      <th>bio_simi</th>\n",
       "      <th>edu_exp_simi</th>\n",
       "      <th>gitlang_simi</th>\n",
       "      <th>pro_pub_title_simi</th>\n",
       "      <th>pro_pub_desc_simi</th>\n",
       "      <th>skill_simi</th>\n",
       "      <th>summary_simi</th>\n",
       "      <th>exp_desc_simi</th>\n",
       "      <th>count</th>\n",
       "      <th>name_leven</th>\n",
       "      <th>...</th>\n",
       "      <th>login_fuzz</th>\n",
       "      <th>login_jw</th>\n",
       "      <th>location_fuzz_sort</th>\n",
       "      <th>school_company</th>\n",
       "      <th>company_company</th>\n",
       "      <th>linkedin_gitblog</th>\n",
       "      <th>linkedin_gitweb</th>\n",
       "      <th>linkweb_gitblog</th>\n",
       "      <th>linkweb_gitweb</th>\n",
       "      <th>linkweb_github</th>\n",
       "    </tr>\n",
       "  </thead>\n",
       "  <tbody>\n",
       "    <tr>\n",
       "      <th>count</th>\n",
       "      <td>491790.000000</td>\n",
       "      <td>491790.000000</td>\n",
       "      <td>491790.000000</td>\n",
       "      <td>491790.000000</td>\n",
       "      <td>491790.000000</td>\n",
       "      <td>491790.000000</td>\n",
       "      <td>491790.000000</td>\n",
       "      <td>491790.000000</td>\n",
       "      <td>491790.000000</td>\n",
       "      <td>491790.000000</td>\n",
       "      <td>...</td>\n",
       "      <td>491790.000000</td>\n",
       "      <td>491790.000000</td>\n",
       "      <td>491790.000000</td>\n",
       "      <td>491790.000000</td>\n",
       "      <td>491790.000000</td>\n",
       "      <td>491790.000000</td>\n",
       "      <td>491790.000000</td>\n",
       "      <td>491790.000000</td>\n",
       "      <td>491790.000000</td>\n",
       "      <td>491790.000000</td>\n",
       "    </tr>\n",
       "    <tr>\n",
       "      <th>mean</th>\n",
       "      <td>-0.767356</td>\n",
       "      <td>-0.767254</td>\n",
       "      <td>-0.364898</td>\n",
       "      <td>-0.901849</td>\n",
       "      <td>-0.760087</td>\n",
       "      <td>-0.293994</td>\n",
       "      <td>-0.968422</td>\n",
       "      <td>-0.479048</td>\n",
       "      <td>69.950772</td>\n",
       "      <td>4.462557</td>\n",
       "      <td>...</td>\n",
       "      <td>49.529710</td>\n",
       "      <td>0.638823</td>\n",
       "      <td>34.193662</td>\n",
       "      <td>8.169168</td>\n",
       "      <td>13.029580</td>\n",
       "      <td>0.670403</td>\n",
       "      <td>0.670403</td>\n",
       "      <td>0.506536</td>\n",
       "      <td>0.506536</td>\n",
       "      <td>0.584118</td>\n",
       "    </tr>\n",
       "    <tr>\n",
       "      <th>std</th>\n",
       "      <td>0.431574</td>\n",
       "      <td>0.425737</td>\n",
       "      <td>0.501327</td>\n",
       "      <td>0.298596</td>\n",
       "      <td>0.434177</td>\n",
       "      <td>0.470381</td>\n",
       "      <td>0.177500</td>\n",
       "      <td>0.509712</td>\n",
       "      <td>88.838188</td>\n",
       "      <td>5.452825</td>\n",
       "      <td>...</td>\n",
       "      <td>22.281679</td>\n",
       "      <td>0.215013</td>\n",
       "      <td>12.910034</td>\n",
       "      <td>15.120508</td>\n",
       "      <td>23.791707</td>\n",
       "      <td>0.079836</td>\n",
       "      <td>0.079836</td>\n",
       "      <td>0.095006</td>\n",
       "      <td>0.095006</td>\n",
       "      <td>0.103853</td>\n",
       "    </tr>\n",
       "    <tr>\n",
       "      <th>min</th>\n",
       "      <td>-1.000000</td>\n",
       "      <td>-1.000000</td>\n",
       "      <td>-1.000000</td>\n",
       "      <td>-1.000000</td>\n",
       "      <td>-1.000000</td>\n",
       "      <td>-1.000000</td>\n",
       "      <td>-1.000000</td>\n",
       "      <td>-1.000000</td>\n",
       "      <td>1.000000</td>\n",
       "      <td>0.000000</td>\n",
       "      <td>...</td>\n",
       "      <td>0.000000</td>\n",
       "      <td>0.000000</td>\n",
       "      <td>0.000000</td>\n",
       "      <td>0.000000</td>\n",
       "      <td>0.000000</td>\n",
       "      <td>0.000000</td>\n",
       "      <td>0.000000</td>\n",
       "      <td>0.000000</td>\n",
       "      <td>0.000000</td>\n",
       "      <td>0.000000</td>\n",
       "    </tr>\n",
       "    <tr>\n",
       "      <th>25%</th>\n",
       "      <td>-1.000000</td>\n",
       "      <td>-1.000000</td>\n",
       "      <td>-1.000000</td>\n",
       "      <td>-1.000000</td>\n",
       "      <td>-1.000000</td>\n",
       "      <td>-1.000000</td>\n",
       "      <td>-1.000000</td>\n",
       "      <td>-1.000000</td>\n",
       "      <td>9.000000</td>\n",
       "      <td>0.000000</td>\n",
       "      <td>...</td>\n",
       "      <td>33.000000</td>\n",
       "      <td>0.490480</td>\n",
       "      <td>29.000000</td>\n",
       "      <td>0.000000</td>\n",
       "      <td>0.000000</td>\n",
       "      <td>0.670411</td>\n",
       "      <td>0.670411</td>\n",
       "      <td>0.506531</td>\n",
       "      <td>0.506531</td>\n",
       "      <td>0.584223</td>\n",
       "    </tr>\n",
       "    <tr>\n",
       "      <th>50%</th>\n",
       "      <td>-1.000000</td>\n",
       "      <td>-1.000000</td>\n",
       "      <td>0.000000</td>\n",
       "      <td>-1.000000</td>\n",
       "      <td>-1.000000</td>\n",
       "      <td>0.000000</td>\n",
       "      <td>-1.000000</td>\n",
       "      <td>0.000000</td>\n",
       "      <td>35.000000</td>\n",
       "      <td>3.000000</td>\n",
       "      <td>...</td>\n",
       "      <td>48.000000</td>\n",
       "      <td>0.626070</td>\n",
       "      <td>34.000000</td>\n",
       "      <td>0.000000</td>\n",
       "      <td>0.000000</td>\n",
       "      <td>0.670411</td>\n",
       "      <td>0.670411</td>\n",
       "      <td>0.506531</td>\n",
       "      <td>0.506531</td>\n",
       "      <td>0.584223</td>\n",
       "    </tr>\n",
       "    <tr>\n",
       "      <th>75%</th>\n",
       "      <td>-1.000000</td>\n",
       "      <td>-1.000000</td>\n",
       "      <td>0.020874</td>\n",
       "      <td>-1.000000</td>\n",
       "      <td>-1.000000</td>\n",
       "      <td>0.011176</td>\n",
       "      <td>-1.000000</td>\n",
       "      <td>0.007189</td>\n",
       "      <td>91.000000</td>\n",
       "      <td>8.000000</td>\n",
       "      <td>...</td>\n",
       "      <td>64.000000</td>\n",
       "      <td>0.829640</td>\n",
       "      <td>34.000000</td>\n",
       "      <td>15.000000</td>\n",
       "      <td>26.000000</td>\n",
       "      <td>0.670411</td>\n",
       "      <td>0.670411</td>\n",
       "      <td>0.506531</td>\n",
       "      <td>0.506531</td>\n",
       "      <td>0.615385</td>\n",
       "    </tr>\n",
       "    <tr>\n",
       "      <th>95%</th>\n",
       "      <td>0.000000</td>\n",
       "      <td>0.000000</td>\n",
       "      <td>0.091899</td>\n",
       "      <td>0.000000</td>\n",
       "      <td>0.025832</td>\n",
       "      <td>0.066922</td>\n",
       "      <td>-1.000000</td>\n",
       "      <td>0.046452</td>\n",
       "      <td>278.000000</td>\n",
       "      <td>15.000000</td>\n",
       "      <td>...</td>\n",
       "      <td>91.000000</td>\n",
       "      <td>0.963640</td>\n",
       "      <td>64.000000</td>\n",
       "      <td>38.000000</td>\n",
       "      <td>58.000000</td>\n",
       "      <td>0.795455</td>\n",
       "      <td>0.795455</td>\n",
       "      <td>0.631579</td>\n",
       "      <td>0.631579</td>\n",
       "      <td>0.714286</td>\n",
       "    </tr>\n",
       "    <tr>\n",
       "      <th>max</th>\n",
       "      <td>1.000000</td>\n",
       "      <td>0.895711</td>\n",
       "      <td>0.997116</td>\n",
       "      <td>1.000000</td>\n",
       "      <td>0.847171</td>\n",
       "      <td>0.859858</td>\n",
       "      <td>0.844114</td>\n",
       "      <td>0.831315</td>\n",
       "      <td>487.000000</td>\n",
       "      <td>243.000000</td>\n",
       "      <td>...</td>\n",
       "      <td>100.000000</td>\n",
       "      <td>1.000000</td>\n",
       "      <td>100.000000</td>\n",
       "      <td>100.000000</td>\n",
       "      <td>100.000000</td>\n",
       "      <td>1.000000</td>\n",
       "      <td>1.000000</td>\n",
       "      <td>1.000000</td>\n",
       "      <td>1.000000</td>\n",
       "      <td>0.910638</td>\n",
       "    </tr>\n",
       "  </tbody>\n",
       "</table>\n",
       "<p>9 rows × 23 columns</p>\n",
       "</div>"
      ],
      "text/plain": [
       "            bio_simi   edu_exp_simi   gitlang_simi  pro_pub_title_simi  \\\n",
       "count  491790.000000  491790.000000  491790.000000       491790.000000   \n",
       "mean       -0.767356      -0.767254      -0.364898           -0.901849   \n",
       "std         0.431574       0.425737       0.501327            0.298596   \n",
       "min        -1.000000      -1.000000      -1.000000           -1.000000   \n",
       "25%        -1.000000      -1.000000      -1.000000           -1.000000   \n",
       "50%        -1.000000      -1.000000       0.000000           -1.000000   \n",
       "75%        -1.000000      -1.000000       0.020874           -1.000000   \n",
       "95%         0.000000       0.000000       0.091899            0.000000   \n",
       "max         1.000000       0.895711       0.997116            1.000000   \n",
       "\n",
       "       pro_pub_desc_simi     skill_simi   summary_simi  exp_desc_simi  \\\n",
       "count      491790.000000  491790.000000  491790.000000  491790.000000   \n",
       "mean           -0.760087      -0.293994      -0.968422      -0.479048   \n",
       "std             0.434177       0.470381       0.177500       0.509712   \n",
       "min            -1.000000      -1.000000      -1.000000      -1.000000   \n",
       "25%            -1.000000      -1.000000      -1.000000      -1.000000   \n",
       "50%            -1.000000       0.000000      -1.000000       0.000000   \n",
       "75%            -1.000000       0.011176      -1.000000       0.007189   \n",
       "95%             0.025832       0.066922      -1.000000       0.046452   \n",
       "max             0.847171       0.859858       0.844114       0.831315   \n",
       "\n",
       "               count     name_leven       ...           login_fuzz  \\\n",
       "count  491790.000000  491790.000000       ...        491790.000000   \n",
       "mean       69.950772       4.462557       ...            49.529710   \n",
       "std        88.838188       5.452825       ...            22.281679   \n",
       "min         1.000000       0.000000       ...             0.000000   \n",
       "25%         9.000000       0.000000       ...            33.000000   \n",
       "50%        35.000000       3.000000       ...            48.000000   \n",
       "75%        91.000000       8.000000       ...            64.000000   \n",
       "95%       278.000000      15.000000       ...            91.000000   \n",
       "max       487.000000     243.000000       ...           100.000000   \n",
       "\n",
       "            login_jw  location_fuzz_sort  school_company  company_company  \\\n",
       "count  491790.000000       491790.000000   491790.000000    491790.000000   \n",
       "mean        0.638823           34.193662        8.169168        13.029580   \n",
       "std         0.215013           12.910034       15.120508        23.791707   \n",
       "min         0.000000            0.000000        0.000000         0.000000   \n",
       "25%         0.490480           29.000000        0.000000         0.000000   \n",
       "50%         0.626070           34.000000        0.000000         0.000000   \n",
       "75%         0.829640           34.000000       15.000000        26.000000   \n",
       "95%         0.963640           64.000000       38.000000        58.000000   \n",
       "max         1.000000          100.000000      100.000000       100.000000   \n",
       "\n",
       "       linkedin_gitblog  linkedin_gitweb  linkweb_gitblog  linkweb_gitweb  \\\n",
       "count     491790.000000    491790.000000    491790.000000   491790.000000   \n",
       "mean           0.670403         0.670403         0.506536        0.506536   \n",
       "std            0.079836         0.079836         0.095006        0.095006   \n",
       "min            0.000000         0.000000         0.000000        0.000000   \n",
       "25%            0.670411         0.670411         0.506531        0.506531   \n",
       "50%            0.670411         0.670411         0.506531        0.506531   \n",
       "75%            0.670411         0.670411         0.506531        0.506531   \n",
       "95%            0.795455         0.795455         0.631579        0.631579   \n",
       "max            1.000000         1.000000         1.000000        1.000000   \n",
       "\n",
       "       linkweb_github  \n",
       "count   491790.000000  \n",
       "mean         0.584118  \n",
       "std          0.103853  \n",
       "min          0.000000  \n",
       "25%          0.584223  \n",
       "50%          0.584223  \n",
       "75%          0.615385  \n",
       "95%          0.714286  \n",
       "max          0.910638  \n",
       "\n",
       "[9 rows x 23 columns]"
      ]
     },
     "execution_count": 13,
     "metadata": {},
     "output_type": "execute_result"
    }
   ],
   "source": [
    "train.iloc[:,3:].describe(percentiles=[.25,.5,.75,.95])"
   ]
  },
  {
   "cell_type": "code",
   "execution_count": 14,
   "metadata": {},
   "outputs": [],
   "source": [
    "import matplotlib.pyplot as plt"
   ]
  },
  {
   "cell_type": "code",
   "execution_count": 15,
   "metadata": {},
   "outputs": [
    {
     "name": "stdout",
     "output_type": "stream",
     "text": [
      "[[<matplotlib.axes._subplots.AxesSubplot object at 0x7f80078cb518>]]\n",
      "[[<matplotlib.axes._subplots.AxesSubplot object at 0x7f80078a16a0>]]\n",
      "[[<matplotlib.axes._subplots.AxesSubplot object at 0x7f80078539b0>]]\n",
      "[[<matplotlib.axes._subplots.AxesSubplot object at 0x7f800787cd30>]]\n",
      "[[<matplotlib.axes._subplots.AxesSubplot object at 0x7f8007827eb8>]]\n",
      "[[<matplotlib.axes._subplots.AxesSubplot object at 0x7f80077da0f0>]]\n",
      "[[<matplotlib.axes._subplots.AxesSubplot object at 0x7f8007804400>]]\n",
      "[[<matplotlib.axes._subplots.AxesSubplot object at 0x7f80077af710>]]\n",
      "[[<matplotlib.axes._subplots.AxesSubplot object at 0x7f800775b9e8>]]\n",
      "[[<matplotlib.axes._subplots.AxesSubplot object at 0x7f8007707ba8>]]\n",
      "[[<matplotlib.axes._subplots.AxesSubplot object at 0x7f8007731dd8>]]\n",
      "[[<matplotlib.axes._subplots.AxesSubplot object at 0x7f80076e2198>]]\n",
      "[[<matplotlib.axes._subplots.AxesSubplot object at 0x7f800768d4a8>]]\n",
      "[[<matplotlib.axes._subplots.AxesSubplot object at 0x7f80076b9550>]]\n",
      "[[<matplotlib.axes._subplots.AxesSubplot object at 0x7f8007663828>]]\n",
      "[[<matplotlib.axes._subplots.AxesSubplot object at 0x7f800760db00>]]\n",
      "[[<matplotlib.axes._subplots.AxesSubplot object at 0x7f800763ae80>]]\n",
      "[[<matplotlib.axes._subplots.AxesSubplot object at 0x7f80075e5f60>]]\n",
      "[[<matplotlib.axes._subplots.AxesSubplot object at 0x7f8007597320>]]\n",
      "[[<matplotlib.axes._subplots.AxesSubplot object at 0x7f80075c2550>]]\n",
      "[[<matplotlib.axes._subplots.AxesSubplot object at 0x7f800756f908>]]\n",
      "[[<matplotlib.axes._subplots.AxesSubplot object at 0x7f8007519a90>]]\n",
      "[[<matplotlib.axes._subplots.AxesSubplot object at 0x7f80074c5cc0>]]\n"
     ]
    },
    {
     "name": "stderr",
     "output_type": "stream",
     "text": [
      "/usr/local/lib/python3.5/dist-packages/matplotlib/pyplot.py:537: RuntimeWarning: More than 20 figures have been opened. Figures created through the pyplot interface (`matplotlib.pyplot.figure`) are retained until explicitly closed and may consume too much memory. (To control this warning, see the rcParam `figure.max_open_warning`).\n",
      "  max_open_warning, RuntimeWarning)\n"
     ]
    },
    {
     "data": {
      "image/png": "[encoded data removed]",
      "text/plain": [
       "<Figure size 432x288 with 1 Axes>"
      ]
     },
     "metadata": {},
     "output_type": "display_data"
    },
    {
     "data": {
      "image/png": "[encoded data removed]",
      "text/plain": [
       "<Figure size 432x288 with 1 Axes>"
      ]
     },
     "metadata": {},
     "output_type": "display_data"
    },
    {
     "data": {
      "image/png": "[encoded data removed]",
      "text/plain": [
       "<Figure size 432x288 with 1 Axes>"
      ]
     },
     "metadata": {},
     "output_type": "display_data"
    },
    {
     "data": {
      "image/png": "[encoded data removed]",
      "text/plain": [
       "<Figure size 432x288 with 1 Axes>"
      ]
     },
     "metadata": {},
     "output_type": "display_data"
    },
    {
     "data": {
      "image/png": "[encoded data removed]",
      "text/plain": [
       "<Figure size 432x288 with 1 Axes>"
      ]
     },
     "metadata": {},
     "output_type": "display_data"
    },
    {
     "data": {
      "image/png": "[encoded data removed]",
      "text/plain": [
       "<Figure size 432x288 with 1 Axes>"
      ]
     },
     "metadata": {},
     "output_type": "display_data"
    },
    {
     "data": {
      "image/png": "[encoded data removed]",
      "text/plain": [
       "<Figure size 432x288 with 1 Axes>"
      ]
     },
     "metadata": {},
     "output_type": "display_data"
    },
    {
     "data": {
      "image/png": "[encoded data removed]",
      "text/plain": [
       "<Figure size 432x288 with 1 Axes>"
      ]
     },
     "metadata": {},
     "output_type": "display_data"
    },
    {
     "data": {
      "image/png": "[encoded data removed]",
      "text/plain": [
       "<Figure size 432x288 with 1 Axes>"
      ]
     },
     "metadata": {},
     "output_type": "display_data"
    },
    {
     "data": {
      "image/png": "[encoded data removed]",
      "text/plain": [
       "<Figure size 432x288 with 1 Axes>"
      ]
     },
     "metadata": {},
     "output_type": "display_data"
    },
    {
     "data": {
      "image/png": "[encoded data removed]",
      "text/plain": [
       "<Figure size 432x288 with 1 Axes>"
      ]
     },
     "metadata": {},
     "output_type": "display_data"
    },
    {
     "data": {
      "image/png": "[encoded data removed]",
      "text/plain": [
       "<Figure size 432x288 with 1 Axes>"
      ]
     },
     "metadata": {},
     "output_type": "display_data"
    },
    {
     "data": {
      "image/png": "[encoded data removed]",
      "text/plain": [
       "<Figure size 432x288 with 1 Axes>"
      ]
     },
     "metadata": {},
     "output_type": "display_data"
    },
    {
     "data": {
      "image/png": "[encoded data removed]",
      "text/plain": [
       "<Figure size 432x288 with 1 Axes>"
      ]
     },
     "metadata": {},
     "output_type": "display_data"
    },
    {
     "data": {
      "image/png": "[encoded data removed]",
      "text/plain": [
       "<Figure size 432x288 with 1 Axes>"
      ]
     },
     "metadata": {},
     "output_type": "display_data"
    },
    {
     "data": {
      "image/png": "[encoded data removed]",
      "text/plain": [
       "<Figure size 432x288 with 1 Axes>"
      ]
     },
     "metadata": {},
     "output_type": "display_data"
    },
    {
     "data": {
      "image/png": "[encoded data removed]",
      "text/plain": [
       "<Figure size 432x288 with 1 Axes>"
      ]
     },
     "metadata": {},
     "output_type": "display_data"
    },
    {
     "data": {
      "image/png": "[encoded data removed]",
      "text/plain": [
       "<Figure size 432x288 with 1 Axes>"
      ]
     },
     "metadata": {},
     "output_type": "display_data"
    },
    {
     "data": {
      "image/png": "[encoded data removed]",
      "text/plain": [
       "<Figure size 432x288 with 1 Axes>"
      ]
     },
     "metadata": {},
     "output_type": "display_data"
    },
    {
     "data": {
      "image/png": "[encoded data removed]",
      "text/plain": [
       "<Figure size 432x288 with 1 Axes>"
      ]
     },
     "metadata": {},
     "output_type": "display_data"
    },
    {
     "data": {
      "image/png": "[encoded data removed]",
      "text/plain": [
       "<Figure size 432x288 with 1 Axes>"
      ]
     },
     "metadata": {},
     "output_type": "display_data"
    },
    {
     "data": {
      "image/png": "[encoded data removed]",
      "text/plain": [
       "<Figure size 432x288 with 1 Axes>"
      ]
     },
     "metadata": {},
     "output_type": "display_data"
    },
    {
     "data": {
      "image/png": "[encoded data removed]",
      "text/plain": [
       "<Figure size 432x288 with 1 Axes>"
      ]
     },
     "metadata": {},
     "output_type": "display_data"
    }
   ],
   "source": [
    "for col in train.columns[3:]:\n",
    "    print(train[[col]].hist())"
   ]
  },
  {
   "cell_type": "code",
   "execution_count": 16,
   "metadata": {},
   "outputs": [
    {
     "data": {
      "image/png": "[encoded data removed]",
      "text/plain": [
       "<Figure size 864x720 with 2 Axes>"
      ]
     },
     "metadata": {},
     "output_type": "display_data"
    }
   ],
   "source": [
    "fig = plt.figure(figsize=(12, 10))\n",
    "ax = fig.add_subplot(111)\n",
    "cax = ax.matshow(train.iloc[:,3:].corr(), interpolation='nearest')\n",
    "fig.colorbar(cax)\n",
    "alpha = train.columns[3:]\n",
    "ax.set_xticklabels(['']+alpha)\n",
    "ax.set_yticklabels(['']+alpha)\n",
    "\n",
    "plt.show()"
   ]
  },
  {
   "cell_type": "code",
   "execution_count": 17,
   "metadata": {},
   "outputs": [],
   "source": [
    "from sklearn.model_selection import train_test_split"
   ]
  },
  {
   "cell_type": "code",
   "execution_count": 15,
   "metadata": {},
   "outputs": [
    {
     "name": "stderr",
     "output_type": "stream",
     "text": [
      "/usr/local/lib/python3.5/dist-packages/h5py/__init__.py:36: FutureWarning: Conversion of the second argument of issubdtype from `float` to `np.floating` is deprecated. In future, it will be treated as `np.float64 == np.dtype(float).type`.\n",
      "  from ._conv import register_converters as _register_converters\n",
      "Using TensorFlow backend.\n"
     ]
    }
   ],
   "source": [
    "import numpy\n",
    "import pandas\n",
    "from keras.models import Sequential\n",
    "from keras.layers import Dense\n",
    "from keras.wrappers.scikit_learn import KerasClassifier\n",
    "from sklearn.model_selection import cross_val_score\n",
    "from sklearn.preprocessing import LabelEncoder\n",
    "from sklearn.model_selection import StratifiedKFold\n",
    "from sklearn.preprocessing import StandardScaler\n",
    "from sklearn.pipeline import Pipeline\n"
   ]
  },
  {
   "cell_type": "code",
   "execution_count": 19,
   "metadata": {},
   "outputs": [],
   "source": [
    "# fix random seed for reproducibility\n",
    "seed = 7\n",
    "numpy.random.seed(seed)"
   ]
  },
  {
   "cell_type": "code",
   "execution_count": 132,
   "metadata": {},
   "outputs": [],
   "source": [
    "train_data = train.values\n",
    "\n",
    "test_data = test.values"
   ]
  },
  {
   "cell_type": "code",
   "execution_count": 133,
   "metadata": {},
   "outputs": [],
   "source": [
    "#X_train, X_val, Y_train, Y_val = train_test_split(train_data[:,3:], train_data[:,2], test_size=0.1)"
   ]
  },
  {
   "cell_type": "code",
   "execution_count": 134,
   "metadata": {},
   "outputs": [],
   "source": [
    "# split into input and output variables\n",
    "X_train = train_data[:, 3:]\n",
    "X_test = test_data[:, 3:]\n",
    "Y_train = train_data[:,2]\n",
    "Y_test = test_data[:,2]"
   ]
  },
  {
   "cell_type": "code",
   "execution_count": 135,
   "metadata": {},
   "outputs": [],
   "source": [
    "# encode class values as integers\n",
    "encoder = LabelEncoder()\n",
    "encoder.fit(Y_train)\n",
    "encoded_Y_train = encoder.transform(Y_train)\n",
    "encoder.fit(Y_test)\n",
    "encoded_Y_test = encoder.transform(Y_test)"
   ]
  },
  {
   "cell_type": "code",
   "execution_count": 136,
   "metadata": {},
   "outputs": [
    {
     "data": {
      "text/plain": [
       "491790"
      ]
     },
     "execution_count": 136,
     "metadata": {},
     "output_type": "execute_result"
    }
   ],
   "source": [
    "X_train.shape[0]"
   ]
  },
  {
   "cell_type": "markdown",
   "metadata": {},
   "source": [
    "### A. Neural Network: Model 1"
   ]
  },
  {
   "cell_type": "code",
   "execution_count": 137,
   "metadata": {},
   "outputs": [],
   "source": [
    "from keras.layers import Dropout,BatchNormalization, Bidirectional,LSTM\n",
    "\n",
    "model = Sequential()\n",
    "model.add(Dense(256, input_dim = 23,kernel_initializer = \"uniform\", activation = 'relu'))\n",
    "model.add(Dropout(0.2))\n",
    "model.add(Dense(256,kernel_initializer = \"normal\", activation = 'relu'))\n",
    "model.add(Dropout(0.2))\n",
    "model.add(Dense(1, activation = 'sigmoid'))"
   ]
  },
  {
   "cell_type": "code",
   "execution_count": 138,
   "metadata": {},
   "outputs": [
    {
     "name": "stdout",
     "output_type": "stream",
     "text": [
      "_________________________________________________________________\n",
      "Layer (type)                 Output Shape              Param #   \n",
      "=================================================================\n",
      "dense_16 (Dense)             (None, 256)               6144      \n",
      "_________________________________________________________________\n",
      "dropout_3 (Dropout)          (None, 256)               0         \n",
      "_________________________________________________________________\n",
      "dense_17 (Dense)             (None, 256)               65792     \n",
      "_________________________________________________________________\n",
      "dropout_4 (Dropout)          (None, 256)               0         \n",
      "_________________________________________________________________\n",
      "dense_18 (Dense)             (None, 1)                 257       \n",
      "=================================================================\n",
      "Total params: 72,193\n",
      "Trainable params: 72,193\n",
      "Non-trainable params: 0\n",
      "_________________________________________________________________\n"
     ]
    }
   ],
   "source": [
    "model.summary()"
   ]
  },
  {
   "cell_type": "code",
   "execution_count": 139,
   "metadata": {},
   "outputs": [],
   "source": [
    "# Early stopping callback\n",
    "# early stopping tells the model to stop thw training when it doesn't see any performance improvement for a user-defined \n",
    "# time-frame (the number of epoch with the PATIENCE parameter)\n",
    "\n",
    "from keras.callbacks import EarlyStopping\n",
    "PATIENCE = 10\n",
    "early_stopping = EarlyStopping(monitor='loss', min_delta=0, patience=PATIENCE, verbose=1, mode='auto')"
   ]
  },
  {
   "cell_type": "code",
   "execution_count": 140,
   "metadata": {},
   "outputs": [],
   "source": [
    "model.compile(loss='binary_crossentropy', optimizer = 'adam',metrics =['accuracy'])"
   ]
  },
  {
   "cell_type": "code",
   "execution_count": 143,
   "metadata": {},
   "outputs": [
    {
     "name": "stdout",
     "output_type": "stream",
     "text": [
      "Train on 442611 samples, validate on 49179 samples\n",
      "Epoch 1/100\n",
      "442611/442611 [==============================] - 9s 21us/step - loss: 0.0532 - acc: 0.9825 - val_loss: 0.7886 - val_acc: 0.7033\n",
      "Epoch 2/100\n",
      "442611/442611 [==============================] - 9s 21us/step - loss: 0.0529 - acc: 0.9826 - val_loss: 0.7558 - val_acc: 0.7434\n",
      "Epoch 3/100\n",
      "442611/442611 [==============================] - 9s 21us/step - loss: 0.0530 - acc: 0.9825 - val_loss: 0.7377 - val_acc: 0.7399\n",
      "Epoch 4/100\n",
      "442611/442611 [==============================] - 9s 21us/step - loss: 0.0529 - acc: 0.9825 - val_loss: 0.6720 - val_acc: 0.7728\n",
      "Epoch 5/100\n",
      "442611/442611 [==============================] - 9s 21us/step - loss: 0.0532 - acc: 0.9826 - val_loss: 0.8686 - val_acc: 0.6688\n",
      "Epoch 6/100\n",
      "442611/442611 [==============================] - 9s 21us/step - loss: 0.0529 - acc: 0.9824 - val_loss: 0.7610 - val_acc: 0.7386\n",
      "Epoch 7/100\n",
      "442611/442611 [==============================] - 9s 21us/step - loss: 0.0529 - acc: 0.9826 - val_loss: 0.7867 - val_acc: 0.7476\n",
      "Epoch 8/100\n",
      "442611/442611 [==============================] - 9s 21us/step - loss: 0.0526 - acc: 0.9826 - val_loss: 0.7784 - val_acc: 0.7196\n",
      "Epoch 9/100\n",
      "442611/442611 [==============================] - 9s 21us/step - loss: 0.0526 - acc: 0.9826 - val_loss: 0.7401 - val_acc: 0.7467\n",
      "Epoch 10/100\n",
      "442611/442611 [==============================] - 9s 21us/step - loss: 0.0526 - acc: 0.9827 - val_loss: 0.8289 - val_acc: 0.7340\n",
      "Epoch 11/100\n",
      "442611/442611 [==============================] - 9s 21us/step - loss: 0.0534 - acc: 0.9826 - val_loss: 0.8091 - val_acc: 0.7378\n",
      "Epoch 12/100\n",
      "442611/442611 [==============================] - 9s 21us/step - loss: 0.0531 - acc: 0.9823 - val_loss: 0.8559 - val_acc: 0.7212\n",
      "Epoch 13/100\n",
      "442611/442611 [==============================] - 9s 21us/step - loss: 0.0527 - acc: 0.9827 - val_loss: 0.8945 - val_acc: 0.6781\n",
      "Epoch 14/100\n",
      "442611/442611 [==============================] - 9s 21us/step - loss: 0.0524 - acc: 0.9828 - val_loss: 0.7189 - val_acc: 0.7540\n",
      "Epoch 15/100\n",
      "442611/442611 [==============================] - 9s 21us/step - loss: 0.0525 - acc: 0.9828 - val_loss: 0.8549 - val_acc: 0.6732\n",
      "Epoch 16/100\n",
      "442611/442611 [==============================] - 9s 21us/step - loss: 0.0528 - acc: 0.9827 - val_loss: 0.7977 - val_acc: 0.7326\n",
      "Epoch 17/100\n",
      "442611/442611 [==============================] - 9s 21us/step - loss: 0.0526 - acc: 0.9827 - val_loss: 0.8731 - val_acc: 0.7173\n",
      "Epoch 18/100\n",
      "442611/442611 [==============================] - 9s 21us/step - loss: 0.0520 - acc: 0.9828 - val_loss: 0.7214 - val_acc: 0.7735\n",
      "Epoch 19/100\n",
      "442611/442611 [==============================] - 9s 21us/step - loss: 0.0521 - acc: 0.9827 - val_loss: 0.8218 - val_acc: 0.7194\n",
      "Epoch 20/100\n",
      "442611/442611 [==============================] - 9s 21us/step - loss: 0.0523 - acc: 0.9827 - val_loss: 0.7407 - val_acc: 0.7466\n",
      "Epoch 21/100\n",
      "442611/442611 [==============================] - 9s 21us/step - loss: 0.0524 - acc: 0.9828 - val_loss: 0.5947 - val_acc: 0.7886\n",
      "Epoch 22/100\n",
      "442611/442611 [==============================] - 9s 21us/step - loss: 0.0523 - acc: 0.9828 - val_loss: 1.0310 - val_acc: 0.6411\n",
      "Epoch 23/100\n",
      "442611/442611 [==============================] - 9s 21us/step - loss: 0.0525 - acc: 0.9828 - val_loss: 0.6858 - val_acc: 0.7435\n",
      "Epoch 24/100\n",
      "442611/442611 [==============================] - 9s 21us/step - loss: 0.0522 - acc: 0.9828 - val_loss: 0.7600 - val_acc: 0.7057\n",
      "Epoch 25/100\n",
      "442611/442611 [==============================] - 9s 21us/step - loss: 0.0521 - acc: 0.9829 - val_loss: 0.7607 - val_acc: 0.7170\n",
      "Epoch 26/100\n",
      "442611/442611 [==============================] - 9s 21us/step - loss: 0.0523 - acc: 0.9829 - val_loss: 0.7138 - val_acc: 0.7468\n",
      "Epoch 27/100\n",
      "442611/442611 [==============================] - 9s 21us/step - loss: 0.0523 - acc: 0.9828 - val_loss: 0.6061 - val_acc: 0.7562\n",
      "Epoch 28/100\n",
      "442611/442611 [==============================] - 9s 21us/step - loss: 0.0519 - acc: 0.9829 - val_loss: 0.8394 - val_acc: 0.7188\n",
      "Epoch 29/100\n",
      "442611/442611 [==============================] - 9s 21us/step - loss: 0.0522 - acc: 0.9827 - val_loss: 0.7321 - val_acc: 0.7442\n",
      "Epoch 30/100\n",
      "442611/442611 [==============================] - 9s 21us/step - loss: 0.0520 - acc: 0.9828 - val_loss: 0.7674 - val_acc: 0.7422\n",
      "Epoch 31/100\n",
      "442611/442611 [==============================] - 9s 21us/step - loss: 0.0523 - acc: 0.9829 - val_loss: 0.7475 - val_acc: 0.7245\n",
      "Epoch 32/100\n",
      "442611/442611 [==============================] - 9s 21us/step - loss: 0.0523 - acc: 0.9829 - val_loss: 0.7132 - val_acc: 0.7579\n",
      "Epoch 33/100\n",
      "442611/442611 [==============================] - 9s 21us/step - loss: 0.0523 - acc: 0.9828 - val_loss: 0.8384 - val_acc: 0.7110\n",
      "Epoch 34/100\n",
      "442611/442611 [==============================] - 9s 21us/step - loss: 0.0520 - acc: 0.9829 - val_loss: 0.7272 - val_acc: 0.7506\n",
      "Epoch 35/100\n",
      "442611/442611 [==============================] - 9s 21us/step - loss: 0.0518 - acc: 0.9830 - val_loss: 0.8009 - val_acc: 0.7213\n",
      "Epoch 36/100\n",
      "442611/442611 [==============================] - 9s 21us/step - loss: 0.0519 - acc: 0.9830 - val_loss: 0.7748 - val_acc: 0.7389\n",
      "Epoch 37/100\n",
      "442611/442611 [==============================] - 9s 21us/step - loss: 0.0519 - acc: 0.9830 - val_loss: 0.7532 - val_acc: 0.7281\n",
      "Epoch 38/100\n",
      "442611/442611 [==============================] - 9s 21us/step - loss: 0.0521 - acc: 0.9830 - val_loss: 0.8048 - val_acc: 0.7252\n",
      "Epoch 39/100\n",
      "442611/442611 [==============================] - 9s 21us/step - loss: 0.0520 - acc: 0.9828 - val_loss: 0.7504 - val_acc: 0.7463\n",
      "Epoch 40/100\n",
      "442611/442611 [==============================] - 9s 21us/step - loss: 0.0521 - acc: 0.9829 - val_loss: 0.8019 - val_acc: 0.7347\n",
      "Epoch 41/100\n",
      "442611/442611 [==============================] - 9s 21us/step - loss: 0.0516 - acc: 0.9831 - val_loss: 0.7435 - val_acc: 0.7466\n",
      "Epoch 42/100\n",
      "442611/442611 [==============================] - 9s 21us/step - loss: 0.0521 - acc: 0.9828 - val_loss: 0.7362 - val_acc: 0.7664\n",
      "Epoch 43/100\n",
      "442611/442611 [==============================] - 9s 21us/step - loss: 0.0520 - acc: 0.9829 - val_loss: 0.7329 - val_acc: 0.7474\n",
      "Epoch 44/100\n",
      "442611/442611 [==============================] - 9s 21us/step - loss: 0.0520 - acc: 0.9830 - val_loss: 0.7695 - val_acc: 0.7210\n",
      "Epoch 45/100\n",
      "442611/442611 [==============================] - 9s 21us/step - loss: 0.0518 - acc: 0.9830 - val_loss: 0.8133 - val_acc: 0.7305\n",
      "Epoch 46/100\n",
      "442611/442611 [==============================] - 9s 21us/step - loss: 0.0516 - acc: 0.9831 - val_loss: 0.7656 - val_acc: 0.7552\n",
      "Epoch 47/100\n",
      "442611/442611 [==============================] - 9s 21us/step - loss: 0.0518 - acc: 0.9831 - val_loss: 0.7793 - val_acc: 0.7323\n",
      "Epoch 48/100\n",
      "442611/442611 [==============================] - 9s 21us/step - loss: 0.0518 - acc: 0.9831 - val_loss: 0.7217 - val_acc: 0.7286\n",
      "Epoch 49/100\n",
      "442611/442611 [==============================] - 9s 21us/step - loss: 0.0516 - acc: 0.9831 - val_loss: 0.7665 - val_acc: 0.7261\n",
      "Epoch 50/100\n",
      "442611/442611 [==============================] - 9s 21us/step - loss: 0.0515 - acc: 0.9830 - val_loss: 0.7683 - val_acc: 0.7544\n",
      "Epoch 51/100\n",
      "442611/442611 [==============================] - 9s 21us/step - loss: 0.0522 - acc: 0.9831 - val_loss: 0.9233 - val_acc: 0.6893\n",
      "Epoch 52/100\n",
      "442611/442611 [==============================] - 9s 21us/step - loss: 0.0520 - acc: 0.9831 - val_loss: 0.6730 - val_acc: 0.7546\n",
      "Epoch 53/100\n",
      "442611/442611 [==============================] - 9s 21us/step - loss: 0.0517 - acc: 0.9831 - val_loss: 0.6657 - val_acc: 0.7517\n",
      "Epoch 54/100\n",
      "442611/442611 [==============================] - 9s 21us/step - loss: 0.0521 - acc: 0.9831 - val_loss: 0.8016 - val_acc: 0.7434\n",
      "Epoch 55/100\n",
      "442611/442611 [==============================] - 9s 21us/step - loss: 0.0518 - acc: 0.9831 - val_loss: 0.7786 - val_acc: 0.7371\n",
      "Epoch 56/100\n",
      "442611/442611 [==============================] - 9s 21us/step - loss: 0.0516 - acc: 0.9831 - val_loss: 0.9070 - val_acc: 0.6720\n",
      "Epoch 57/100\n",
      "442611/442611 [==============================] - 9s 21us/step - loss: 0.0519 - acc: 0.9831 - val_loss: 0.8752 - val_acc: 0.7075\n",
      "Epoch 58/100\n",
      "442611/442611 [==============================] - 9s 21us/step - loss: 0.0517 - acc: 0.9831 - val_loss: 0.8197 - val_acc: 0.7377\n"
     ]
    },
    {
     "name": "stdout",
     "output_type": "stream",
     "text": [
      "Epoch 59/100\n",
      "442611/442611 [==============================] - 9s 21us/step - loss: 0.0521 - acc: 0.9832 - val_loss: 0.9738 - val_acc: 0.6476\n",
      "Epoch 60/100\n",
      "442611/442611 [==============================] - 9s 21us/step - loss: 0.0520 - acc: 0.9831 - val_loss: 0.7836 - val_acc: 0.7297\n",
      "Epoch 00060: early stopping\n"
     ]
    },
    {
     "data": {
      "text/plain": [
       "<keras.callbacks.History at 0x7f714169b1d0>"
      ]
     },
     "execution_count": 143,
     "metadata": {},
     "output_type": "execute_result"
    }
   ],
   "source": [
    "model.fit(X_train, Y_train,validation_split = 0.10,epochs = 100, batch_size = 128, callbacks = [early_stopping])"
   ]
  },
  {
   "cell_type": "code",
   "execution_count": 30,
   "metadata": {},
   "outputs": [
    {
     "name": "stdout",
     "output_type": "stream",
     "text": [
      "210275/210275 [==============================] - 1s 5us/step\n"
     ]
    }
   ],
   "source": [
    "test_loss, test_accu = model.evaluate(X_test, Y_test, batch_size=128)"
   ]
  },
  {
   "cell_type": "code",
   "execution_count": 31,
   "metadata": {},
   "outputs": [
    {
     "name": "stdout",
     "output_type": "stream",
     "text": [
      "test_accu: 0.9677184639194182\n",
      "test_loss: 0.098398263358357\n"
     ]
    }
   ],
   "source": [
    "print('test_accu:', test_accu)\n",
    "print('test_loss:', test_loss)"
   ]
  },
  {
   "cell_type": "code",
   "execution_count": 32,
   "metadata": {},
   "outputs": [
    {
     "name": "stdout",
     "output_type": "stream",
     "text": [
      "Actual           0      1\n",
      "Prediction               \n",
      "0           178420   3499\n",
      "1             3289  25067\n",
      "F1 Score: 0.8807490952531536\n"
     ]
    }
   ],
   "source": [
    "import numpy as np\n",
    "\n",
    "Y_predict = np.round(model.predict(X_test),0).transpose()\n",
    "\n",
    "Y_predict = pd.Series(Y_predict.flatten()).map(lambda x: int(x))\n",
    "\n",
    "df_result = pd.concat([pd.Series(encoded_Y_test), Y_predict], axis=1)\n",
    "\n",
    "df_result.columns = ['Actual','Prediction']\n",
    "\n",
    "print(pd.crosstab(df_result.Prediction, df_result.Actual))\n",
    "\n",
    "from sklearn.metrics import accuracy_score, f1_score\n",
    "\n",
    "# Report the accuracy\n",
    "f1 = f1_score(encoded_Y_test,Y_predict)\n",
    "print(\"F1 Score: \" + str(f1))"
   ]
  },
  {
   "cell_type": "markdown",
   "metadata": {},
   "source": [
    "## Case2: using raw text data in github repos and linkedin and some of features"
   ]
  },
  {
   "cell_type": "markdown",
   "metadata": {},
   "source": [
    "### A. Some preliminary experiment"
   ]
  },
  {
   "cell_type": "code",
   "execution_count": 16,
   "metadata": {},
   "outputs": [],
   "source": [
    "import pandas as pd"
   ]
  },
  {
   "cell_type": "code",
   "execution_count": 17,
   "metadata": {},
   "outputs": [],
   "source": [
    "data_ori = pd.read_csv('/home/yiwei/yiwei_data/featureNN.csv', index_col = 0)"
   ]
  },
  {
   "cell_type": "code",
   "execution_count": 18,
   "metadata": {},
   "outputs": [
    {
     "name": "stdout",
     "output_type": "stream",
     "text": [
      "<class 'pandas.core.frame.DataFrame'>\n",
      "Int64Index: 702065 entries, 0 to 702064\n",
      "Data columns (total 25 columns):\n",
      "idGit                 702065 non-null object\n",
      "idLink                702065 non-null int64\n",
      "match                 702065 non-null int64\n",
      "bio_simi              702065 non-null float64\n",
      "edu_exp_simi          702065 non-null float64\n",
      "summary_simi          702065 non-null float64\n",
      "count                 702065 non-null int64\n",
      "name_leven            702065 non-null int64\n",
      "name_dmetaphone       702065 non-null float64\n",
      "name_jw               702065 non-null float64\n",
      "name_fuzz             702065 non-null int64\n",
      "login_fuzz            702065 non-null int64\n",
      "login_jw              702065 non-null float64\n",
      "location_fuzz_sort    388118 non-null float64\n",
      "school_company        702065 non-null int64\n",
      "company_company       702065 non-null int64\n",
      "org_company           702065 non-null int64\n",
      "org_school            702065 non-null int64\n",
      "linkedin_gitblog      200620 non-null float64\n",
      "linkedin_gitweb       200620 non-null float64\n",
      "linkweb_gitblog       95955 non-null float64\n",
      "linkweb_gitweb        95955 non-null float64\n",
      "linkweb_github        300074 non-null float64\n",
      "repoText              702065 non-null object\n",
      "linkText              702065 non-null object\n",
      "dtypes: float64(12), int64(10), object(3)\n",
      "memory usage: 139.3+ MB\n"
     ]
    }
   ],
   "source": [
    "data_ori.info()"
   ]
  },
  {
   "cell_type": "code",
   "execution_count": 19,
   "metadata": {},
   "outputs": [
    {
     "data": {
      "text/html": [
       "<div>\n",
       "<style scoped>\n",
       "    .dataframe tbody tr th:only-of-type {\n",
       "        vertical-align: middle;\n",
       "    }\n",
       "\n",
       "    .dataframe tbody tr th {\n",
       "        vertical-align: top;\n",
       "    }\n",
       "\n",
       "    .dataframe thead th {\n",
       "        text-align: right;\n",
       "    }\n",
       "</style>\n",
       "<table border=\"1\" class=\"dataframe\">\n",
       "  <thead>\n",
       "    <tr style=\"text-align: right;\">\n",
       "      <th></th>\n",
       "      <th>idGit</th>\n",
       "      <th>idLink</th>\n",
       "      <th>match</th>\n",
       "      <th>bio_simi</th>\n",
       "      <th>edu_exp_simi</th>\n",
       "      <th>summary_simi</th>\n",
       "      <th>count</th>\n",
       "      <th>name_leven</th>\n",
       "      <th>name_dmetaphone</th>\n",
       "      <th>name_jw</th>\n",
       "      <th>...</th>\n",
       "      <th>company_company</th>\n",
       "      <th>org_company</th>\n",
       "      <th>org_school</th>\n",
       "      <th>linkedin_gitblog</th>\n",
       "      <th>linkedin_gitweb</th>\n",
       "      <th>linkweb_gitblog</th>\n",
       "      <th>linkweb_gitweb</th>\n",
       "      <th>linkweb_github</th>\n",
       "      <th>repoText</th>\n",
       "      <th>linkText</th>\n",
       "    </tr>\n",
       "  </thead>\n",
       "  <tbody>\n",
       "    <tr>\n",
       "      <th>0</th>\n",
       "      <td>g830507</td>\n",
       "      <td>100140</td>\n",
       "      <td>1</td>\n",
       "      <td>0.126368</td>\n",
       "      <td>0.148137</td>\n",
       "      <td>-1.0</td>\n",
       "      <td>1</td>\n",
       "      <td>0</td>\n",
       "      <td>1.0</td>\n",
       "      <td>1.0</td>\n",
       "      <td>...</td>\n",
       "      <td>100</td>\n",
       "      <td>0</td>\n",
       "      <td>0</td>\n",
       "      <td>0.607843</td>\n",
       "      <td>0.607843</td>\n",
       "      <td>NaN</td>\n",
       "      <td>NaN</td>\n",
       "      <td>NaN</td>\n",
       "      <td>devise_security_extension,react,dns.js.org,red...</td>\n",
       "      <td>,,,,,Java,C++,PHP,Social Media,JavaScript,Prog...</td>\n",
       "    </tr>\n",
       "    <tr>\n",
       "      <th>1</th>\n",
       "      <td>g980367</td>\n",
       "      <td>100227</td>\n",
       "      <td>0</td>\n",
       "      <td>-1.000000</td>\n",
       "      <td>-1.000000</td>\n",
       "      <td>-1.0</td>\n",
       "      <td>21</td>\n",
       "      <td>0</td>\n",
       "      <td>1.0</td>\n",
       "      <td>1.0</td>\n",
       "      <td>...</td>\n",
       "      <td>39</td>\n",
       "      <td>0</td>\n",
       "      <td>0</td>\n",
       "      <td>0.641026</td>\n",
       "      <td>0.641026</td>\n",
       "      <td>NaN</td>\n",
       "      <td>NaN</td>\n",
       "      <td>NaN</td>\n",
       "      <td>oooh-la-la,sketchup-samples,wagtail,django-cac...</td>\n",
       "      <td>,,MissionHub makes it easy for leaders to impr...</td>\n",
       "    </tr>\n",
       "  </tbody>\n",
       "</table>\n",
       "<p>2 rows × 25 columns</p>\n",
       "</div>"
      ],
      "text/plain": [
       "     idGit  idLink  match  bio_simi  edu_exp_simi  summary_simi  count  \\\n",
       "0  g830507  100140      1  0.126368      0.148137          -1.0      1   \n",
       "1  g980367  100227      0 -1.000000     -1.000000          -1.0     21   \n",
       "\n",
       "   name_leven  name_dmetaphone  name_jw  \\\n",
       "0           0              1.0      1.0   \n",
       "1           0              1.0      1.0   \n",
       "\n",
       "                         ...                          company_company  \\\n",
       "0                        ...                                      100   \n",
       "1                        ...                                       39   \n",
       "\n",
       "   org_company  org_school  linkedin_gitblog  linkedin_gitweb  \\\n",
       "0            0           0          0.607843         0.607843   \n",
       "1            0           0          0.641026         0.641026   \n",
       "\n",
       "   linkweb_gitblog  linkweb_gitweb  linkweb_github  \\\n",
       "0              NaN             NaN             NaN   \n",
       "1              NaN             NaN             NaN   \n",
       "\n",
       "                                            repoText  \\\n",
       "0  devise_security_extension,react,dns.js.org,red...   \n",
       "1  oooh-la-la,sketchup-samples,wagtail,django-cac...   \n",
       "\n",
       "                                            linkText  \n",
       "0  ,,,,,Java,C++,PHP,Social Media,JavaScript,Prog...  \n",
       "1  ,,MissionHub makes it easy for leaders to impr...  \n",
       "\n",
       "[2 rows x 25 columns]"
      ]
     },
     "execution_count": 19,
     "metadata": {},
     "output_type": "execute_result"
    }
   ],
   "source": [
    "data_ori.head(2)"
   ]
  },
  {
   "cell_type": "code",
   "execution_count": 20,
   "metadata": {},
   "outputs": [],
   "source": [
    "import numpy as np"
   ]
  },
  {
   "cell_type": "code",
   "execution_count": 23,
   "metadata": {
    "scrolled": true
   },
   "outputs": [
    {
     "name": "stdout",
     "output_type": "stream",
     "text": [
      "bio_simi: 0\n",
      "edu_exp_simi: 0\n",
      "summary_simi: 0\n",
      "count: 0\n",
      "name_leven: 0\n",
      "name_dmetaphone: 0\n",
      "name_jw: 0\n",
      "name_fuzz: 0\n",
      "login_fuzz: 0\n",
      "login_jw: 0\n",
      "location_fuzz_sort: 0\n",
      "school_company: 0\n",
      "company_company: 0\n",
      "org_company: 0\n",
      "org_school: 0\n",
      "linkedin_gitblog: 0\n",
      "linkedin_gitweb: 0\n",
      "linkweb_gitblog: 0\n",
      "linkweb_gitweb: 0\n",
      "linkweb_github: 0\n"
     ]
    }
   ],
   "source": [
    "# examine which columns have NaN values\n",
    "\n",
    "for col in data_ori.columns[3:-2]:\n",
    "    print(col+\":\", sum(np.isnan(data_ori[col])))  "
   ]
  },
  {
   "cell_type": "markdown",
   "metadata": {},
   "source": [
    "#### A1. Fill the NaN values in the data"
   ]
  },
  {
   "cell_type": "code",
   "execution_count": 22,
   "metadata": {},
   "outputs": [],
   "source": [
    "# fill the NaN values with the averages of the columns \n",
    "data_ori = data_ori.fillna(data_ori.loc[:,'bio_simi':'linkweb_github'].mean())"
   ]
  },
  {
   "cell_type": "markdown",
   "metadata": {},
   "source": [
    "#### A2. Merge the repoText and linkText to build the vocabulary"
   ]
  },
  {
   "cell_type": "code",
   "execution_count": 24,
   "metadata": {},
   "outputs": [],
   "source": [
    "# merge the repoText and linkText to create the raw text for the tokenizer\n",
    "data_ori['text'] = data_ori['repoText'].str.cat(data_ori[['linkText']], sep=',')"
   ]
  },
  {
   "cell_type": "code",
   "execution_count": 25,
   "metadata": {},
   "outputs": [
    {
     "data": {
      "text/plain": [
       "702065"
      ]
     },
     "execution_count": 25,
     "metadata": {},
     "output_type": "execute_result"
    }
   ],
   "source": [
    "data_ori.shape[0]"
   ]
  },
  {
   "cell_type": "code",
   "execution_count": 26,
   "metadata": {},
   "outputs": [
    {
     "name": "stdout",
     "output_type": "stream",
     "text": [
      "[nltk_data] Downloading package stopwords to /home/jia/nltk_data...\n",
      "[nltk_data]   Package stopwords is already up-to-date!\n"
     ]
    }
   ],
   "source": [
    "# use NLTK library to split the text with regular expression \n",
    "import nltk\n",
    "nltk.download('stopwords')\n",
    "from nltk.tokenize import RegexpTokenizer\n",
    "tokenizer = RegexpTokenizer('[\\'\\\\w\\#\\@++\\d]+')\n",
    "result = []\n",
    "for i in range(0, data_ori.shape[0]):\n",
    "    result.append(tokenizer.tokenize(data_ori.loc[i, 'text']))"
   ]
  },
  {
   "cell_type": "code",
   "execution_count": 27,
   "metadata": {},
   "outputs": [],
   "source": [
    "data_ori['token'] = result "
   ]
  },
  {
   "cell_type": "markdown",
   "metadata": {},
   "source": [
    "#### A2. Remove the stop words in the vocabulary "
   ]
  },
  {
   "cell_type": "code",
   "execution_count": 28,
   "metadata": {},
   "outputs": [],
   "source": [
    "# remove stop words from the list \n",
    "from nltk.corpus import stopwords\n",
    "stop = stopwords.words('english')\n",
    "resultSWR =[]\n",
    "for i in range(0, data_ori.shape[0]):\n",
    "    temp = [j for j in data_ori.loc[i,'token'] if j not in stop]\n",
    "    resultSWR.append(temp)"
   ]
  },
  {
   "cell_type": "code",
   "execution_count": 29,
   "metadata": {},
   "outputs": [],
   "source": [
    "#for i in range(0, len(resultSWR)-1):\n",
    "#  print(len(resultSWR[i]))"
   ]
  },
  {
   "cell_type": "code",
   "execution_count": 30,
   "metadata": {},
   "outputs": [],
   "source": [
    "data_ori['SWRemoved'] = resultSWR"
   ]
  },
  {
   "cell_type": "code",
   "execution_count": 31,
   "metadata": {},
   "outputs": [],
   "source": [
    "from keras.preprocessing.text import Tokenizer\n",
    "tokenizerKeras= Tokenizer(num_words= 2500000, filters='_,-', lower=True, split=' ', char_level=False, oov_token=None)"
   ]
  },
  {
   "cell_type": "code",
   "execution_count": 32,
   "metadata": {},
   "outputs": [],
   "source": [
    "tokenizerKeras.fit_on_texts(data_ori.loc[:,'SWRemoved'])"
   ]
  },
  {
   "cell_type": "code",
   "execution_count": 33,
   "metadata": {},
   "outputs": [
    {
     "name": "stdout",
     "output_type": "stream",
     "text": [
      "Found 2248852 unique tokens.\n"
     ]
    }
   ],
   "source": [
    "# to recover the word index from that was computed\n",
    "word_index = tokenizerKeras.word_index\n",
    "print(\"Found %s unique tokens.\"% len(word_index))"
   ]
  },
  {
   "cell_type": "code",
   "execution_count": 34,
   "metadata": {},
   "outputs": [],
   "source": [
    "repoIndex = tokenizerKeras.texts_to_sequences(data_ori['repoText'])"
   ]
  },
  {
   "cell_type": "code",
   "execution_count": 35,
   "metadata": {},
   "outputs": [],
   "source": [
    "temp =[]\n",
    "for i in range(0,len(repoIndex)):\n",
    "    temp.append(len(repoIndex[i]))"
   ]
  },
  {
   "cell_type": "code",
   "execution_count": 51,
   "metadata": {},
   "outputs": [],
   "source": [
    "temp_df = np.array(temp)"
   ]
  },
  {
   "cell_type": "code",
   "execution_count": 52,
   "metadata": {},
   "outputs": [
    {
     "data": {
      "text/plain": [
       "(array([4.57517e+05, 8.71830e+04, 1.07810e+05, 1.72000e+04, 9.96000e+03,\n",
       "        6.66000e+03, 5.31600e+03, 4.30500e+03, 3.12200e+03, 1.61100e+03,\n",
       "        1.32000e+03, 1.60000e+01, 2.00000e+00, 3.00000e+00, 3.00000e+00]),\n",
       " array([   0,   50,  100,  300,  400,  500,  600,  700,  800,  900, 1000,\n",
       "        1500, 1700, 1800, 1900, 2000]),\n",
       " <a list of 15 Patch objects>)"
      ]
     },
     "execution_count": 52,
     "metadata": {},
     "output_type": "execute_result"
    },
    {
     "data": {
      "image/png": "[encoded data removed]",
      "text/plain": [
       "<Figure size 432x288 with 1 Axes>"
      ]
     },
     "metadata": {},
     "output_type": "display_data"
    }
   ],
   "source": [
    "plt.hist(temp_df, bins = [0,50,100, 300, 400, 500, 600, 700, 800, 900, 1000, 1500, 1700, 1800, 1900, 2000])"
   ]
  },
  {
   "cell_type": "code",
   "execution_count": 36,
   "metadata": {},
   "outputs": [],
   "source": [
    "linkIndex= tokenizerKeras.texts_to_sequences(data_ori['linkText'])"
   ]
  },
  {
   "cell_type": "code",
   "execution_count": 54,
   "metadata": {},
   "outputs": [],
   "source": [
    "tempLink =[]\n",
    "for i in range(0,len(linkIndex)):\n",
    "    tempLink.append(len(linkIndex[i])) "
   ]
  },
  {
   "cell_type": "code",
   "execution_count": 55,
   "metadata": {},
   "outputs": [],
   "source": [
    "tempLink_df = np.array(tempLink)"
   ]
  },
  {
   "cell_type": "code",
   "execution_count": 56,
   "metadata": {},
   "outputs": [
    {
     "data": {
      "text/plain": [
       "(array([2.25049e+05, 1.03691e+05, 2.45076e+05, 5.37150e+04, 3.00130e+04,\n",
       "        1.70720e+04, 1.07610e+04, 5.97400e+03, 3.70600e+03, 2.34800e+03,\n",
       "        3.30700e+03, 3.96000e+02, 1.03000e+02, 5.40000e+01, 1.29000e+02]),\n",
       " array([   0,   50,  100,  300,  400,  500,  600,  700,  800,  900, 1000,\n",
       "        1500, 1700, 1800, 1900, 2000]),\n",
       " <a list of 15 Patch objects>)"
      ]
     },
     "execution_count": 56,
     "metadata": {},
     "output_type": "execute_result"
    },
    {
     "data": {
      "image/png": "[encoded data removed]",
      "text/plain": [
       "<Figure size 432x288 with 1 Axes>"
      ]
     },
     "metadata": {},
     "output_type": "display_data"
    }
   ],
   "source": [
    "plt.hist(tempLink_df, bins = [0,50,100, 300, 400, 500, 600, 700, 800, 900, 1000, 1500, 1700, 1800, 1900, 2000])"
   ]
  },
  {
   "cell_type": "code",
   "execution_count": 37,
   "metadata": {},
   "outputs": [],
   "source": [
    "data_ori['repoIndex'] = repoIndex"
   ]
  },
  {
   "cell_type": "code",
   "execution_count": 38,
   "metadata": {},
   "outputs": [],
   "source": [
    "data_ori['linkIndex'] = linkIndex"
   ]
  },
  {
   "cell_type": "code",
   "execution_count": 59,
   "metadata": {},
   "outputs": [],
   "source": [
    "data_ori.to_csv('/home/jia/Dropbox/Startup/code/Talentful/data/dataSWR0925.csv')"
   ]
  },
  {
   "cell_type": "markdown",
   "metadata": {},
   "source": [
    "#### A3. Split the data_ori into training and test data sets based on the ID's from Spark"
   ]
  },
  {
   "cell_type": "code",
   "execution_count": 62,
   "metadata": {},
   "outputs": [
    {
     "data": {
      "text/plain": [
       "Index(['idGit', 'idLink', 'match', 'bio_simi', 'edu_exp_simi', 'summary_simi',\n",
       "       'count', 'name_leven', 'name_dmetaphone', 'name_jw', 'name_fuzz',\n",
       "       'login_fuzz', 'login_jw', 'location_fuzz_sort', 'school_company',\n",
       "       'company_company', 'org_company', 'org_school', 'linkedin_gitblog',\n",
       "       'linkedin_gitweb', 'linkweb_gitblog', 'linkweb_gitweb',\n",
       "       'linkweb_github', 'repoText', 'linkText', 'text', 'token', 'SWRemoved',\n",
       "       'repoIndex', 'linkIndex'],\n",
       "      dtype='object')"
      ]
     },
     "execution_count": 62,
     "metadata": {},
     "output_type": "execute_result"
    }
   ],
   "source": [
    "trainKeras.columns"
   ]
  },
  {
   "cell_type": "code",
   "execution_count": 41,
   "metadata": {},
   "outputs": [],
   "source": [
    "trainKeras= pd.merge(data_ori,trainingID)"
   ]
  },
  {
   "cell_type": "code",
   "execution_count": 42,
   "metadata": {},
   "outputs": [],
   "source": [
    "testKeras = pd.merge(data_ori, testID)"
   ]
  },
  {
   "cell_type": "code",
   "execution_count": 43,
   "metadata": {},
   "outputs": [],
   "source": [
    "from keras.preprocessing.sequence import pad_sequences\n",
    "\n",
    "repoTrain = pad_sequences(trainKeras.loc[:,'repoIndex'], maxlen=1800, dtype='int32', padding='pre', truncating='pre', value=0.0)"
   ]
  },
  {
   "cell_type": "code",
   "execution_count": 44,
   "metadata": {},
   "outputs": [],
   "source": [
    "repoTest = pad_sequences(testKeras.loc[:,'repoIndex'], maxlen=1800, dtype='int32', padding='pre', truncating='pre', value=0.0)"
   ]
  },
  {
   "cell_type": "code",
   "execution_count": 45,
   "metadata": {},
   "outputs": [],
   "source": [
    "linkTrain = pad_sequences(trainKeras.loc[:,'linkIndex'], maxlen=1800, dtype='int32', padding='pre', truncating='pre', value=0.0)"
   ]
  },
  {
   "cell_type": "code",
   "execution_count": 46,
   "metadata": {},
   "outputs": [],
   "source": [
    "linkTest = pad_sequences(testKeras.loc[:,'linkIndex'], maxlen=1800, dtype='int32', padding='pre', truncating='pre', value=0.0)"
   ]
  },
  {
   "cell_type": "markdown",
   "metadata": {},
   "source": [
    "#### A3. Build the model"
   ]
  },
  {
   "cell_type": "code",
   "execution_count": 47,
   "metadata": {},
   "outputs": [],
   "source": [
    "labels = trainKeras['match']"
   ]
  },
  {
   "cell_type": "code",
   "execution_count": 48,
   "metadata": {},
   "outputs": [],
   "source": [
    "label_test = testKeras['match']"
   ]
  },
  {
   "cell_type": "code",
   "execution_count": 49,
   "metadata": {},
   "outputs": [],
   "source": [
    "# encode class values as integers\n",
    "encoder = LabelEncoder()\n",
    "encoder.fit(labels)\n",
    "encoded_labels= encoder.transform(labels)"
   ]
  },
  {
   "cell_type": "code",
   "execution_count": 50,
   "metadata": {},
   "outputs": [],
   "source": [
    "encoder.fit(label_test)\n",
    "encoded_Ltest= encoder.transform(label_test)"
   ]
  },
  {
   "cell_type": "code",
   "execution_count": 51,
   "metadata": {},
   "outputs": [],
   "source": [
    "import keras\n",
    "from keras.layers import Input, Embedding, Dense, LSTM\n",
    "from keras.models import Model\n",
    "\n",
    "repo_text = Input(shape=(1800,), dtype = 'int32')\n",
    "link_text = Input(shape=(1800,), dtype = 'int32')"
   ]
  },
  {
   "cell_type": "code",
   "execution_count": 52,
   "metadata": {},
   "outputs": [],
   "source": [
    "# This layer can take as input a matrix\n",
    "# and will return a matrix of size (1800,64)\n",
    "shared_embed = Embedding(output_dim=64, input_dim=2248852, input_length=1800)"
   ]
  },
  {
   "cell_type": "code",
   "execution_count": 53,
   "metadata": {},
   "outputs": [],
   "source": [
    "repo_embed = shared_embed(repo_text)\n",
    "link_embed = shared_embed(link_text)"
   ]
  },
  {
   "cell_type": "code",
   "execution_count": 54,
   "metadata": {},
   "outputs": [],
   "source": [
    "shared_lstm = LSTM(32)"
   ]
  },
  {
   "cell_type": "code",
   "execution_count": 55,
   "metadata": {},
   "outputs": [],
   "source": [
    "repo_encoded = shared_lstm(repo_embed)\n",
    "link_encoded = shared_lstm(link_embed)"
   ]
  },
  {
   "cell_type": "code",
   "execution_count": 56,
   "metadata": {},
   "outputs": [],
   "source": [
    "merged_vector = keras.layers.concatenate([repo_encoded, link_encoded], axis=-1)"
   ]
  },
  {
   "cell_type": "code",
   "execution_count": 57,
   "metadata": {},
   "outputs": [],
   "source": [
    "main_input = Input(shape= (20,), name = 'main_input')"
   ]
  },
  {
   "cell_type": "code",
   "execution_count": 58,
   "metadata": {},
   "outputs": [],
   "source": [
    "#aux_1 = Dense(64, activation = 'relu')(main_input)\n",
    "auxiliary_output = Dense(1, activation='sigmoid', name='aux_output')(main_input)"
   ]
  },
  {
   "cell_type": "code",
   "execution_count": 59,
   "metadata": {},
   "outputs": [],
   "source": [
    "#auxiliary_input = Input(shape=(20,), name='aux_input')"
   ]
  },
  {
   "cell_type": "code",
   "execution_count": 60,
   "metadata": {},
   "outputs": [],
   "source": [
    "x = keras.layers.concatenate([main_input,merged_vector])"
   ]
  },
  {
   "cell_type": "code",
   "execution_count": 61,
   "metadata": {},
   "outputs": [],
   "source": [
    "# We stack a deep densely-connected network on top\n",
    "x = Dense(256, activation='relu')(x)\n",
    "x = Dense(64, activation='relu')(x)\n",
    "x = Dense(64, activation='relu')(x)\n",
    "x = Dense(64, activation='relu')(x)\n",
    "\n",
    "# And finally we add the main logistic regression layer\n",
    "main_output = Dense(1, activation='sigmoid', name='main_output')(x)"
   ]
  },
  {
   "cell_type": "code",
   "execution_count": 62,
   "metadata": {},
   "outputs": [],
   "source": [
    "model = Model(inputs=[main_input, repo_text, link_text], outputs=[main_output, auxiliary_output])"
   ]
  },
  {
   "cell_type": "code",
   "execution_count": 63,
   "metadata": {},
   "outputs": [],
   "source": [
    "model.compile(optimizer='rmsprop', loss='binary_crossentropy',loss_weights=[1., 0.2], metrics = ['accuracy'])"
   ]
  },
  {
   "cell_type": "code",
   "execution_count": 64,
   "metadata": {},
   "outputs": [
    {
     "name": "stderr",
     "output_type": "stream",
     "text": [
      "/home/jia/.local/lib/python3.5/site-packages/tensorflow/python/ops/gradients_impl.py:97: UserWarning: Converting sparse IndexedSlices to a dense Tensor with 143926528 elements. This may consume a large amount of memory.\n",
      "  num_elements)\n"
     ]
    },
    {
     "name": "stdout",
     "output_type": "stream",
     "text": [
      "Train on 441790 samples, validate on 50000 samples\n",
      "Epoch 1/8\n",
      "441790/441790 [==============================] - 2155s 5ms/step - loss: 0.3314 - main_output_loss: 0.1390 - aux_output_loss: 0.9616 - main_output_acc: 0.9504 - aux_output_acc: 0.8543 - val_loss: 0.1490 - val_main_output_loss: 0.1133 - val_aux_output_loss: 0.1781 - val_main_output_acc: 0.9617 - val_aux_output_acc: 0.9386\n",
      "Epoch 2/8\n",
      "441790/441790 [==============================] - 2154s 5ms/step - loss: 0.1426 - main_output_loss: 0.1075 - aux_output_loss: 0.1752 - main_output_acc: 0.9631 - aux_output_acc: 0.9404 - val_loss: 0.1377 - val_main_output_loss: 0.1028 - val_aux_output_loss: 0.1746 - val_main_output_acc: 0.9646 - val_aux_output_acc: 0.9376\n",
      "Epoch 3/8\n",
      "441790/441790 [==============================] - 2158s 5ms/step - loss: 0.1359 - main_output_loss: 0.1015 - aux_output_loss: 0.1716 - main_output_acc: 0.9654 - aux_output_acc: 0.9415 - val_loss: 0.1402 - val_main_output_loss: 0.1059 - val_aux_output_loss: 0.1714 - val_main_output_acc: 0.9638 - val_aux_output_acc: 0.9389\n",
      "Epoch 4/8\n",
      "441790/441790 [==============================] - 2156s 5ms/step - loss: 0.1321 - main_output_loss: 0.0983 - aux_output_loss: 0.1693 - main_output_acc: 0.9661 - aux_output_acc: 0.9423 - val_loss: 0.1316 - val_main_output_loss: 0.0980 - val_aux_output_loss: 0.1682 - val_main_output_acc: 0.9652 - val_aux_output_acc: 0.9413\n",
      "Epoch 5/8\n",
      "441790/441790 [==============================] - 2158s 5ms/step - loss: 0.1293 - main_output_loss: 0.0958 - aux_output_loss: 0.1678 - main_output_acc: 0.9672 - aux_output_acc: 0.9427 - val_loss: 0.1340 - val_main_output_loss: 0.1005 - val_aux_output_loss: 0.1678 - val_main_output_acc: 0.9657 - val_aux_output_acc: 0.9431\n",
      "Epoch 6/8\n",
      "441790/441790 [==============================] - 2153s 5ms/step - loss: 0.1277 - main_output_loss: 0.0943 - aux_output_loss: 0.1668 - main_output_acc: 0.9677 - aux_output_acc: 0.9430 - val_loss: 0.1350 - val_main_output_loss: 0.1018 - val_aux_output_loss: 0.1661 - val_main_output_acc: 0.9642 - val_aux_output_acc: 0.9424\n",
      "Epoch 7/8\n",
      "441790/441790 [==============================] - 2156s 5ms/step - loss: 0.1256 - main_output_loss: 0.0923 - aux_output_loss: 0.1661 - main_output_acc: 0.9685 - aux_output_acc: 0.9431 - val_loss: 0.1308 - val_main_output_loss: 0.0976 - val_aux_output_loss: 0.1657 - val_main_output_acc: 0.9657 - val_aux_output_acc: 0.9428\n",
      "Epoch 8/8\n",
      "441790/441790 [==============================] - 2153s 5ms/step - loss: 0.1231 - main_output_loss: 0.0900 - aux_output_loss: 0.1656 - main_output_acc: 0.9693 - aux_output_acc: 0.9432 - val_loss: 0.1400 - val_main_output_loss: 0.1071 - val_aux_output_loss: 0.1649 - val_main_output_acc: 0.9632 - val_aux_output_acc: 0.9426\n"
     ]
    }
   ],
   "source": [
    "history2 = model.fit([trainKeras.loc[:,'bio_simi':'linkweb_github'][50000:], repoTrain[50000:], linkTrain[50000:]], [labels[50000:], labels[50000:]],\n",
    "          epochs=8, batch_size=512, validation_data = ([trainKeras.loc[:,'bio_simi':'linkweb_github'][0:50000], repoTrain[0:50000], linkTrain[0:50000]],[labels[0:50000], labels[0:50000]] ))"
   ]
  },
  {
   "cell_type": "code",
   "execution_count": 122,
   "metadata": {},
   "outputs": [],
   "source": [
    "from keras.models import load_model\n",
    "\n",
    "model.save('modelGit_link.h5') "
   ]
  },
  {
   "cell_type": "code",
   "execution_count": 64,
   "metadata": {
    "scrolled": true
   },
   "outputs": [
    {
     "data": {
      "text/plain": [
       "{'aux_output_acc': [0.9446572724091434, 0.9546412086588139],\n",
       " 'aux_output_loss': [0.15482816229664506, 0.13223825295039],\n",
       " 'loss': [0.17166872106569936, 0.13303028470034298],\n",
       " 'main_output_acc': [0.9506293336547971, 0.9629903007289088],\n",
       " 'main_output_loss': [0.1407030883882357, 0.10658263359288904]}"
      ]
     },
     "execution_count": 64,
     "metadata": {},
     "output_type": "execute_result"
    }
   ],
   "source": [
    "history1.history"
   ]
  },
  {
   "cell_type": "code",
   "execution_count": 65,
   "metadata": {},
   "outputs": [
    {
     "name": "stdout",
     "output_type": "stream",
     "text": [
      "210275/210275 [==============================] - 252s 1ms/step\n"
     ]
    }
   ],
   "source": [
    "test_eval1 = model.evaluate([testKeras.loc[:,'bio_simi':'linkweb_github'], repoTest, linkTest],[encoded_Ltest,encoded_Ltest], batch_size=512)"
   ]
  },
  {
   "cell_type": "code",
   "execution_count": 65,
   "metadata": {},
   "outputs": [
    {
     "name": "stdout",
     "output_type": "stream",
     "text": [
      "210275/210275 [==============================] - 249s 1ms/step\n"
     ]
    }
   ],
   "source": [
    "test_eval= model.evaluate([testKeras.loc[:,'bio_simi':'linkweb_github'], repoTest, linkTest],[encoded_Ltest,encoded_Ltest], batch_size=512)"
   ]
  },
  {
   "cell_type": "code",
   "execution_count": 67,
   "metadata": {},
   "outputs": [
    {
     "data": {
      "text/plain": [
       "[0.13913644302870684,\n",
       " 0.10641784045238045,\n",
       " 0.16359300892739415,\n",
       " 0.9636190702812862,\n",
       " 0.9437688740965671]"
      ]
     },
     "execution_count": 67,
     "metadata": {},
     "output_type": "execute_result"
    }
   ],
   "source": [
    "test_eval"
   ]
  },
  {
   "cell_type": "code",
   "execution_count": 68,
   "metadata": {},
   "outputs": [],
   "source": [
    "import numpy as np\n",
    "\n",
    "Y_predict = np.round(model.predict([testKeras.loc[:,'bio_simi':'linkweb_github'],repoTest, linkTest], batch_size= 512),0).transpose()"
   ]
  },
  {
   "cell_type": "code",
   "execution_count": 69,
   "metadata": {},
   "outputs": [
    {
     "data": {
      "text/plain": [
       "array([[0., 0., 0., ..., 0., 1., 0.]], dtype=float32)"
      ]
     },
     "execution_count": 69,
     "metadata": {},
     "output_type": "execute_result"
    }
   ],
   "source": [
    "Y_predict[:,:,0]"
   ]
  },
  {
   "cell_type": "code",
   "execution_count": 70,
   "metadata": {},
   "outputs": [],
   "source": [
    "Y_predict0 = pd.Series(Y_predict[:,:,0].flatten()).map(lambda x: int(x))"
   ]
  },
  {
   "cell_type": "code",
   "execution_count": 71,
   "metadata": {},
   "outputs": [],
   "source": [
    "Y_predict1 = pd.Series(Y_predict[:,:,1].flatten()).map(lambda x: int(x))"
   ]
  },
  {
   "cell_type": "code",
   "execution_count": 72,
   "metadata": {},
   "outputs": [
    {
     "name": "stdout",
     "output_type": "stream",
     "text": [
      "Actual           0      1\n",
      "Prediction               \n",
      "0           177743   3684\n",
      "1             3966  24882\n"
     ]
    }
   ],
   "source": [
    "df_result = pd.concat([pd.Series(encoded_Ltest), Y_predict0], axis=1)\n",
    "\n",
    "df_result.columns = ['Actual','Prediction']\n",
    "\n",
    "print(pd.crosstab(df_result.Prediction, df_result.Actual))"
   ]
  },
  {
   "cell_type": "code",
   "execution_count": 73,
   "metadata": {},
   "outputs": [
    {
     "name": "stdout",
     "output_type": "stream",
     "text": [
      "F1 Score: 0.8667572369108579\n"
     ]
    }
   ],
   "source": [
    "from sklearn.metrics import accuracy_score, f1_score\n",
    "\n",
    "# Report the accuracy\n",
    "f1 = f1_score(encoded_Ltest,Y_predict0)\n",
    "print(\"F1 Score: \" + str(f1))"
   ]
  },
  {
   "cell_type": "code",
   "execution_count": 85,
   "metadata": {},
   "outputs": [],
   "source": [
    "import keras\n",
    "from keras.layers import Input, Embedding, Dense, LSTM\n",
    "from keras.models import Model\n",
    "\n",
    "repo_textre = Input(shape=(1800,), dtype = 'int32')\n",
    "link_textre = Input(shape=(1800,), dtype = 'int32')"
   ]
  },
  {
   "cell_type": "code",
   "execution_count": 86,
   "metadata": {},
   "outputs": [],
   "source": [
    "shared_embedre = Embedding(output_dim=64, input_dim=2248852, input_length=1800)"
   ]
  },
  {
   "cell_type": "code",
   "execution_count": 87,
   "metadata": {},
   "outputs": [],
   "source": [
    "repo_embedre = shared_embedre(repo_textre)\n",
    "link_embedre = shared_embedre(link_textre)"
   ]
  },
  {
   "cell_type": "code",
   "execution_count": 88,
   "metadata": {},
   "outputs": [],
   "source": [
    "shared_lstmre = LSTM(32)"
   ]
  },
  {
   "cell_type": "code",
   "execution_count": 89,
   "metadata": {},
   "outputs": [],
   "source": [
    "repo_encodedre= shared_lstmre(repo_embedre)\n",
    "link_encodedre = shared_lstmre(link_embedre)"
   ]
  },
  {
   "cell_type": "code",
   "execution_count": 90,
   "metadata": {},
   "outputs": [],
   "source": [
    "merged_vectorre = keras.layers.concatenate([repo_encodedre, link_encodedre], axis=-1)"
   ]
  },
  {
   "cell_type": "code",
   "execution_count": 91,
   "metadata": {},
   "outputs": [],
   "source": [
    "auxiliary_outputre = Dense(1, activation='sigmoid', name='aux_output')(merged_vectorre)"
   ]
  },
  {
   "cell_type": "code",
   "execution_count": 92,
   "metadata": {},
   "outputs": [],
   "source": [
    "main_inputre = Input(shape= (20,), name = 'main_input')"
   ]
  },
  {
   "cell_type": "code",
   "execution_count": 93,
   "metadata": {},
   "outputs": [],
   "source": [
    "xre= keras.layers.concatenate([main_inputre,merged_vectorre])"
   ]
  },
  {
   "cell_type": "code",
   "execution_count": 94,
   "metadata": {},
   "outputs": [],
   "source": [
    "# We stack a deep densely-connected network on top\n",
    "xre = Dense(256, activation='relu')(xre)\n",
    "xre = Dense(64, activation='relu')(xre)\n",
    "xre = Dense(64, activation='relu')(xre)\n",
    "xre = Dense(64, activation='relu')(xre)\n",
    "\n",
    "# And finally we add the main logistic regression layer\n",
    "main_outputre = Dense(1, activation='sigmoid', name='main_outputre')(xre)"
   ]
  },
  {
   "cell_type": "code",
   "execution_count": 95,
   "metadata": {},
   "outputs": [],
   "source": [
    "modelre = Model(inputs=[main_inputre, repo_textre, link_textre], outputs=[main_outputre, auxiliary_outputre])"
   ]
  },
  {
   "cell_type": "code",
   "execution_count": 96,
   "metadata": {},
   "outputs": [],
   "source": [
    "modelre.compile(optimizer='rmsprop', loss='binary_crossentropy',loss_weights=[1., 0.2], metrics = ['accuracy'])"
   ]
  },
  {
   "cell_type": "code",
   "execution_count": 97,
   "metadata": {},
   "outputs": [
    {
     "name": "stderr",
     "output_type": "stream",
     "text": [
      "/home/jia/.local/lib/python3.5/site-packages/tensorflow/python/ops/gradients_impl.py:97: UserWarning: Converting sparse IndexedSlices to a dense Tensor with 143926528 elements. This may consume a large amount of memory.\n",
      "  num_elements)\n"
     ]
    },
    {
     "name": "stdout",
     "output_type": "stream",
     "text": [
      "Train on 441790 samples, validate on 50000 samples\n",
      "Epoch 1/8\n",
      "441790/441790 [==============================] - 2450s 6ms/step - loss: 0.2054 - main_outputre_loss: 0.1386 - aux_output_loss: 0.3342 - main_outputre_acc: 0.9503 - aux_output_acc: 0.8701 - val_loss: 0.2020 - val_main_outputre_loss: 0.1341 - val_aux_output_loss: 0.3394 - val_main_outputre_acc: 0.9454 - val_aux_output_acc: 0.8652\n",
      "Epoch 2/8\n",
      "441790/441790 [==============================] - 2446s 6ms/step - loss: 0.1684 - main_outputre_loss: 0.1085 - aux_output_loss: 0.2994 - main_outputre_acc: 0.9628 - aux_output_acc: 0.8779 - val_loss: 0.1736 - val_main_outputre_loss: 0.1022 - val_aux_output_loss: 0.3571 - val_main_outputre_acc: 0.9637 - val_aux_output_acc: 0.8555\n",
      "Epoch 3/8\n",
      "441790/441790 [==============================] - 2461s 6ms/step - loss: 0.1577 - main_outputre_loss: 0.1023 - aux_output_loss: 0.2774 - main_outputre_acc: 0.9650 - aux_output_acc: 0.8850 - val_loss: 0.1732 - val_main_outputre_loss: 0.0997 - val_aux_output_loss: 0.3677 - val_main_outputre_acc: 0.9649 - val_aux_output_acc: 0.8504\n",
      "Epoch 4/8\n",
      "258048/441790 [================>.............] - ETA: 16:42 - loss: 0.1532 - main_outputre_loss: 0.0997 - aux_output_loss: 0.2678 - main_outputre_acc: 0.9657 - aux_output_acc: 0.8884"
     ]
    },
    {
     "name": "stderr",
     "output_type": "stream",
     "text": [
      "IOPub data rate exceeded.\n",
      "The notebook server will temporarily stop sending output\n",
      "to the client in order to avoid crashing it.\n",
      "To change this limit, set the config variable\n",
      "`--NotebookApp.iopub_data_rate_limit`.\n",
      "\n",
      "Current values:\n",
      "NotebookApp.iopub_data_rate_limit=1000000.0 (bytes/sec)\n",
      "NotebookApp.rate_limit_window=3.0 (secs)\n",
      "\n"
     ]
    }
   ],
   "source": [
    "historyre= modelre.fit([trainKeras.loc[:,'bio_simi':'linkweb_github'][50000:], repoTrain[50000:], linkTrain[50000:]], [labels[50000:], labels[50000:]],\n",
    "          epochs=8, batch_size=512, validation_data = ([trainKeras.loc[:,'bio_simi':'linkweb_github'][0:50000], repoTrain[0:50000], linkTrain[0:50000]],[labels[0:50000], labels[0:50000]] ))"
   ]
  },
  {
   "cell_type": "code",
   "execution_count": 100,
   "metadata": {},
   "outputs": [],
   "source": [
    "rev = historyre.history"
   ]
  },
  {
   "cell_type": "code",
   "execution_count": 103,
   "metadata": {},
   "outputs": [
    {
     "data": {
      "text/plain": [
       "dict_keys(['main_outputre_loss', 'main_outputre_acc', 'val_aux_output_acc', 'aux_output_loss', 'val_main_outputre_loss', 'aux_output_acc', 'val_aux_output_loss', 'val_loss', 'loss', 'val_main_outputre_acc'])"
      ]
     },
     "execution_count": 103,
     "metadata": {},
     "output_type": "execute_result"
    }
   ],
   "source": [
    "rev.keys()"
   ]
  },
  {
   "cell_type": "code",
   "execution_count": 104,
   "metadata": {},
   "outputs": [],
   "source": [
    "main_loss = rev['main_outputre_loss']"
   ]
  },
  {
   "cell_type": "code",
   "execution_count": 105,
   "metadata": {},
   "outputs": [],
   "source": [
    "val_mloss = rev['val_main_outputre_loss']"
   ]
  },
  {
   "cell_type": "code",
   "execution_count": 106,
   "metadata": {},
   "outputs": [],
   "source": [
    "main_accu = rev['main_outputre_acc']"
   ]
  },
  {
   "cell_type": "code",
   "execution_count": 107,
   "metadata": {},
   "outputs": [],
   "source": [
    "val_accu = rev['val_main_outputre_acc']"
   ]
  },
  {
   "cell_type": "code",
   "execution_count": 110,
   "metadata": {},
   "outputs": [],
   "source": [
    "epochs = range(0, len(main_loss))"
   ]
  },
  {
   "cell_type": "code",
   "execution_count": 114,
   "metadata": {},
   "outputs": [
    {
     "data": {
      "image/png": "[encoded data removed]",
      "text/plain": [
       "<Figure size 432x288 with 1 Axes>"
      ]
     },
     "metadata": {},
     "output_type": "display_data"
    }
   ],
   "source": [
    "plt.plot(epochs, main_loss, 'bo', label ='Training loss')\n",
    "plt.plot(epochs, val_mloss, 'b', label = 'Validation loss')\n",
    "plt.title('Training and validation loss')\n",
    "plt.xlabel('Epochs')\n",
    "plt.ylabel('Loss')\n",
    "plt.legend()\n",
    "plt.show()"
   ]
  },
  {
   "cell_type": "code",
   "execution_count": 115,
   "metadata": {},
   "outputs": [
    {
     "data": {
      "image/png": "[encoded data removed]",
      "text/plain": [
       "<Figure size 432x288 with 1 Axes>"
      ]
     },
     "metadata": {},
     "output_type": "display_data"
    }
   ],
   "source": [
    "plt.clf\n",
    "plt.plot(epochs, main_accu, 'bo', label ='Training Accu')\n",
    "plt.plot(epochs, val_accu, 'b', label = 'Validation Accu')\n",
    "plt.title('Training and validation accuracy')\n",
    "plt.xlabel('Epochs')\n",
    "plt.ylabel('Accuracy')\n",
    "plt.legend()\n",
    "plt.show()"
   ]
  },
  {
   "cell_type": "code",
   "execution_count": 116,
   "metadata": {},
   "outputs": [
    {
     "name": "stdout",
     "output_type": "stream",
     "text": [
      "210275/210275 [==============================] - 246s 1ms/step\n"
     ]
    }
   ],
   "source": [
    "test_evalre = modelre.evaluate([testKeras.loc[:,'bio_simi':'linkweb_github'], repoTest, linkTest],[encoded_Ltest,encoded_Ltest], batch_size=512)"
   ]
  },
  {
   "cell_type": "code",
   "execution_count": 117,
   "metadata": {},
   "outputs": [
    {
     "data": {
      "text/plain": [
       "[0.1617156890264633,\n",
       " 0.1029892209837318,\n",
       " 0.2936323365449707,\n",
       " 0.964346688852173,\n",
       " 0.8795624777139998]"
      ]
     },
     "execution_count": 117,
     "metadata": {},
     "output_type": "execute_result"
    }
   ],
   "source": [
    "test_evalre"
   ]
  },
  {
   "cell_type": "code",
   "execution_count": 118,
   "metadata": {},
   "outputs": [],
   "source": [
    "import numpy as np\n",
    "\n",
    "Yre_predict = np.round(modelre.predict([testKeras.loc[:,'bio_simi':'linkweb_github'],repoTest, linkTest], batch_size= 512),0).transpose()\n",
    "Yre_predict0 = pd.Series(Y_predict[:,:,0].flatten()).map(lambda x: int(x))"
   ]
  },
  {
   "cell_type": "code",
   "execution_count": 119,
   "metadata": {},
   "outputs": [
    {
     "name": "stdout",
     "output_type": "stream",
     "text": [
      "Actual           0      1\n",
      "Prediction               \n",
      "0           177743   3684\n",
      "1             3966  24882\n"
     ]
    }
   ],
   "source": [
    "dfre_result = pd.concat([pd.Series(encoded_Ltest), Yre_predict0], axis=1)\n",
    "\n",
    "dfre_result.columns = ['Actual','Prediction']\n",
    "\n",
    "print(pd.crosstab(dfre_result.Prediction, dfre_result.Actual))"
   ]
  },
  {
   "cell_type": "code",
   "execution_count": 120,
   "metadata": {},
   "outputs": [
    {
     "name": "stdout",
     "output_type": "stream",
     "text": [
      "F1 Score: 0.8667572369108579\n"
     ]
    }
   ],
   "source": [
    "from sklearn.metrics import accuracy_score, f1_score\n",
    "\n",
    "# Report the accuracy\n",
    "f1re = f1_score(encoded_Ltest,Yre_predict0)\n",
    "print(\"F1 Score: \" + str(f1re))"
   ]
  }
 ],
 "metadata": {
  "kernelspec": {
   "display_name": "Python 3",
   "language": "python",
   "name": "python3"
  },
  "language_info": {
   "codemirror_mode": {
    "name": "ipython",
    "version": 3
   },
   "file_extension": ".py",
   "mimetype": "text/x-python",
   "name": "python",
   "nbconvert_exporter": "python",
   "pygments_lexer": "ipython3",
   "version": "3.5.2"
  }
 },
 "nbformat": 4,
 "nbformat_minor": 2
}
